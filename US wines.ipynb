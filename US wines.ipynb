{
 "cells": [
  {
   "cell_type": "markdown",
   "metadata": {},
   "source": [
    "### Build a linear regression model to estimate the points value for wines from the USA. Using simple language,identify which factors are most important in obtaining a good rating."
   ]
  },
  {
   "cell_type": "code",
   "execution_count": 107,
   "metadata": {},
   "outputs": [],
   "source": [
    "\n",
    "import numpy as np\n",
    "import pandas as pd\n",
    "import matplotlib.pyplot as plt\n",
    "import seaborn as sns\n",
    "from sklearn.metrics import mean_squared_error\n",
    "from math import sqrt\n",
    "\n",
    "from sklearn.preprocessing import LabelEncoder\n",
    "from sklearn import preprocessing\n",
    "from sklearn import feature_selection\n",
    "\n",
    "from sklearn.model_selection import train_test_split\n",
    "from sklearn.linear_model import LinearRegression"
   ]
  },
  {
   "cell_type": "code",
   "execution_count": 108,
   "metadata": {},
   "outputs": [],
   "source": [
    "wine = pd.read_csv(\"Data/winemag-data-130k-v2.csv\")"
   ]
  },
  {
   "cell_type": "code",
   "execution_count": 109,
   "metadata": {},
   "outputs": [],
   "source": [
    "data = wine.loc[wine['country'] == \"US\"]"
   ]
  },
  {
   "cell_type": "code",
   "execution_count": 110,
   "metadata": {
    "scrolled": false
   },
   "outputs": [
    {
     "name": "stdout",
     "output_type": "stream",
     "text": [
      "<class 'pandas.core.frame.DataFrame'>\n",
      "Int64Index: 54504 entries, 2 to 129967\n",
      "Data columns (total 14 columns):\n",
      "Unnamed: 0               54504 non-null int64\n",
      "country                  54504 non-null object\n",
      "description              54504 non-null object\n",
      "designation              36908 non-null object\n",
      "points                   54504 non-null int64\n",
      "price                    54265 non-null float64\n",
      "province                 54504 non-null object\n",
      "region_1                 54226 non-null object\n",
      "region_2                 50511 non-null object\n",
      "taster_name              37730 non-null object\n",
      "taster_twitter_handle    34741 non-null object\n",
      "title                    54504 non-null object\n",
      "variety                  54504 non-null object\n",
      "winery                   54504 non-null object\n",
      "dtypes: float64(1), int64(2), object(11)\n",
      "memory usage: 6.2+ MB\n"
     ]
    }
   ],
   "source": [
    "data.info()"
   ]
  },
  {
   "cell_type": "code",
   "execution_count": 111,
   "metadata": {},
   "outputs": [
    {
     "name": "stdout",
     "output_type": "stream",
     "text": [
      "Total number of rows: 54504\n",
      "country : 1\n",
      "description : 50449\n",
      "designation : 14184\n",
      "province : 27\n",
      "region_1 : 265\n",
      "region_2 : 18\n",
      "taster_name : 16\n",
      "taster_twitter_handle : 13\n",
      "title : 50229\n",
      "variety : 257\n",
      "winery : 5375\n"
     ]
    }
   ],
   "source": [
    "#Determining unique in categoricals \n",
    "\n",
    "data_categorical = data.select_dtypes(include=['object']).columns\n",
    "print('Total number of rows: %s' %len(data))\n",
    "for i in range(len(data_categorical)):\n",
    "    category = data_categorical[i]\n",
    "    print(category, ': %s' %len(data[category].unique()))"
   ]
  },
  {
   "cell_type": "code",
   "execution_count": 112,
   "metadata": {
    "scrolled": false
   },
   "outputs": [
    {
     "name": "stderr",
     "output_type": "stream",
     "text": [
      "C:\\ProgramData\\Anaconda3\\lib\\site-packages\\ipykernel_launcher.py:1: SettingWithCopyWarning: \n",
      "A value is trying to be set on a copy of a slice from a DataFrame.\n",
      "Try using .loc[row_indexer,col_indexer] = value instead\n",
      "\n",
      "See the caveats in the documentation: http://pandas.pydata.org/pandas-docs/stable/user_guide/indexing.html#returning-a-view-versus-a-copy\n",
      "  \"\"\"Entry point for launching an IPython kernel.\n"
     ]
    },
    {
     "data": {
      "image/png": "[encoded data removed]",
      "text/plain": [
       "<Figure size 432x288 with 1 Axes>"
      ]
     },
     "metadata": {
      "needs_background": "light"
     },
     "output_type": "display_data"
    }
   ],
   "source": [
    "data['description_word_count'] = data['description'].apply(lambda x: len(str(x).split(\" \")))\n",
    "sns.boxplot(x = 'points', y = 'description_word_count', palette = 'Set3', data = data, linewidth = 1.5);"
   ]
  },
  {
   "cell_type": "code",
   "execution_count": 113,
   "metadata": {},
   "outputs": [
    {
     "data": {
      "text/html": [
       "<div>\n",
       "<style scoped>\n",
       "    .dataframe tbody tr th:only-of-type {\n",
       "        vertical-align: middle;\n",
       "    }\n",
       "\n",
       "    .dataframe tbody tr th {\n",
       "        vertical-align: top;\n",
       "    }\n",
       "\n",
       "    .dataframe thead th {\n",
       "        text-align: right;\n",
       "    }\n",
       "</style>\n",
       "<table border=\"1\" class=\"dataframe\">\n",
       "  <thead>\n",
       "    <tr style=\"text-align: right;\">\n",
       "      <th></th>\n",
       "      <th>points</th>\n",
       "      <th>price</th>\n",
       "      <th>province</th>\n",
       "      <th>region_1</th>\n",
       "      <th>region_2</th>\n",
       "      <th>taster_name</th>\n",
       "      <th>variety</th>\n",
       "      <th>winery</th>\n",
       "      <th>description_word_count</th>\n",
       "    </tr>\n",
       "  </thead>\n",
       "  <tbody>\n",
       "    <tr>\n",
       "      <th>2</th>\n",
       "      <td>87</td>\n",
       "      <td>14.0</td>\n",
       "      <td>Oregon</td>\n",
       "      <td>Willamette Valley</td>\n",
       "      <td>Willamette Valley</td>\n",
       "      <td>Paul Gregutt</td>\n",
       "      <td>Pinot Gris</td>\n",
       "      <td>Rainstorm</td>\n",
       "      <td>28</td>\n",
       "    </tr>\n",
       "    <tr>\n",
       "      <th>3</th>\n",
       "      <td>87</td>\n",
       "      <td>13.0</td>\n",
       "      <td>Michigan</td>\n",
       "      <td>Lake Michigan Shore</td>\n",
       "      <td>NaN</td>\n",
       "      <td>Alexander Peartree</td>\n",
       "      <td>Riesling</td>\n",
       "      <td>St. Julian</td>\n",
       "      <td>33</td>\n",
       "    </tr>\n",
       "    <tr>\n",
       "      <th>4</th>\n",
       "      <td>87</td>\n",
       "      <td>65.0</td>\n",
       "      <td>Oregon</td>\n",
       "      <td>Willamette Valley</td>\n",
       "      <td>Willamette Valley</td>\n",
       "      <td>Paul Gregutt</td>\n",
       "      <td>Pinot Noir</td>\n",
       "      <td>Sweet Cheeks</td>\n",
       "      <td>41</td>\n",
       "    </tr>\n",
       "    <tr>\n",
       "      <th>10</th>\n",
       "      <td>87</td>\n",
       "      <td>19.0</td>\n",
       "      <td>California</td>\n",
       "      <td>Napa Valley</td>\n",
       "      <td>Napa</td>\n",
       "      <td>Virginie Boone</td>\n",
       "      <td>Cabernet Sauvignon</td>\n",
       "      <td>Kirkland Signature</td>\n",
       "      <td>36</td>\n",
       "    </tr>\n",
       "    <tr>\n",
       "      <th>12</th>\n",
       "      <td>87</td>\n",
       "      <td>34.0</td>\n",
       "      <td>California</td>\n",
       "      <td>Alexander Valley</td>\n",
       "      <td>Sonoma</td>\n",
       "      <td>Virginie Boone</td>\n",
       "      <td>Cabernet Sauvignon</td>\n",
       "      <td>Louis M. Martini</td>\n",
       "      <td>28</td>\n",
       "    </tr>\n",
       "  </tbody>\n",
       "</table>\n",
       "</div>"
      ],
      "text/plain": [
       "    points  price    province             region_1           region_2  \\\n",
       "2       87   14.0      Oregon    Willamette Valley  Willamette Valley   \n",
       "3       87   13.0    Michigan  Lake Michigan Shore                NaN   \n",
       "4       87   65.0      Oregon    Willamette Valley  Willamette Valley   \n",
       "10      87   19.0  California          Napa Valley               Napa   \n",
       "12      87   34.0  California     Alexander Valley             Sonoma   \n",
       "\n",
       "           taster_name             variety              winery  \\\n",
       "2         Paul Gregutt          Pinot Gris           Rainstorm   \n",
       "3   Alexander Peartree            Riesling          St. Julian   \n",
       "4         Paul Gregutt          Pinot Noir        Sweet Cheeks   \n",
       "10      Virginie Boone  Cabernet Sauvignon  Kirkland Signature   \n",
       "12      Virginie Boone  Cabernet Sauvignon    Louis M. Martini   \n",
       "\n",
       "    description_word_count  \n",
       "2                       28  \n",
       "3                       33  \n",
       "4                       41  \n",
       "10                      36  \n",
       "12                      28  "
      ]
     },
     "execution_count": 113,
     "metadata": {},
     "output_type": "execute_result"
    }
   ],
   "source": [
    "\n",
    "col_to_delete = ['country', 'Unnamed: 0' ,'description' , 'designation', \n",
    "                 'title', 'taster_twitter_handle']\n",
    "\n",
    "data = data.drop(col_to_delete, axis = 1)\n",
    "\n",
    "data.head()"
   ]
  },
  {
   "cell_type": "code",
   "execution_count": 114,
   "metadata": {},
   "outputs": [
    {
     "name": "stdout",
     "output_type": "stream",
     "text": [
      "Old Size :  54504\n",
      "Duplicates:  4167\n",
      "New Size :  50337\n"
     ]
    }
   ],
   "source": [
    "print(\"Old Size : \" , data.shape[0])\n",
    "print(\"Duplicates: \" , data.duplicated().sum())\n",
    "data.drop_duplicates(inplace=True) \n",
    "print(\"New Size : \" , data.shape[0])"
   ]
  },
  {
   "cell_type": "code",
   "execution_count": 115,
   "metadata": {
    "scrolled": true
   },
   "outputs": [
    {
     "data": {
      "text/plain": [
       "points                    False\n",
       "price                      True\n",
       "province                  False\n",
       "region_1                   True\n",
       "region_2                   True\n",
       "taster_name                True\n",
       "variety                   False\n",
       "winery                    False\n",
       "description_word_count    False\n",
       "dtype: bool"
      ]
     },
     "execution_count": 115,
     "metadata": {},
     "output_type": "execute_result"
    }
   ],
   "source": [
    "data.isna().any()"
   ]
  },
  {
   "cell_type": "code",
   "execution_count": 116,
   "metadata": {},
   "outputs": [],
   "source": [
    "data[[\"region_1\"]] = data[[\"region_1\"]].fillna(value=\"unknownR1\")\n",
    "data[[\"region_2\"]] = data[[\"region_2\"]].fillna(value=\"unknownR2\")\n",
    "data[[\"taster_name\"]] = data[[\"taster_name\"]].fillna(value=\"unknownT\")"
   ]
  },
  {
   "cell_type": "code",
   "execution_count": 117,
   "metadata": {},
   "outputs": [],
   "source": [
    "data[[\"price\"]] = data[[\"price\"]].fillna(data[\"price\"].mode()[0])"
   ]
  },
  {
   "cell_type": "code",
   "execution_count": 118,
   "metadata": {
    "scrolled": true
   },
   "outputs": [
    {
     "data": {
      "text/plain": [
       "points                    False\n",
       "price                     False\n",
       "province                  False\n",
       "region_1                  False\n",
       "region_2                  False\n",
       "taster_name               False\n",
       "variety                   False\n",
       "winery                    False\n",
       "description_word_count    False\n",
       "dtype: bool"
      ]
     },
     "execution_count": 118,
     "metadata": {},
     "output_type": "execute_result"
    }
   ],
   "source": [
    "data.isna().any()"
   ]
  },
  {
   "cell_type": "code",
   "execution_count": 119,
   "metadata": {},
   "outputs": [
    {
     "data": {
      "text/plain": [
       "<matplotlib.axes._subplots.AxesSubplot at 0x236a9e21a58>"
      ]
     },
     "execution_count": 119,
     "metadata": {},
     "output_type": "execute_result"
    },
    {
     "data": {
      "image/png": "[encoded data removed]",
      "text/plain": [
       "<Figure size 432x288 with 1 Axes>"
      ]
     },
     "metadata": {
      "needs_background": "light"
     },
     "output_type": "display_data"
    }
   ],
   "source": [
    "sns.countplot(data['points'])"
   ]
  },
  {
   "cell_type": "code",
   "execution_count": 120,
   "metadata": {},
   "outputs": [],
   "source": [
    "def CalcOutliers(df_num): \n",
    "    '''\n",
    "    \n",
    "    Leonardo Ferreira 20/10/2018\n",
    "    Set a numerical value and it will calculate the upper, lower and total number of outliers\n",
    "    It will print a lot of statistics of the numerical feature that you set on input\n",
    "    \n",
    "    '''\n",
    "    # calculating mean and std of the array\n",
    "    data_mean, data_std = np.mean(df_num), np.std(df_num)\n",
    "\n",
    "    # seting the cut line to both higher and lower values\n",
    "    # You can change this value\n",
    "    cut = data_std * 3\n",
    "\n",
    "    #Calculating the higher and lower cut values\n",
    "    lower, upper = data_mean - cut, data_mean + cut\n",
    "\n",
    "    # creating an array of lower, higher and total outlier values \n",
    "    outliers_lower = [x for x in df_num if x < lower]\n",
    "    outliers_higher = [x for x in df_num if x > upper]\n",
    "    outliers_total = [x for x in df_num if x < lower or x > upper]\n",
    "\n",
    "    # array without outlier values\n",
    "    outliers_removed = [x for x in df_num if x > lower and x < upper]\n",
    "    \n",
    "    print('Identified lowest outliers: %d' % len(outliers_lower)) # printing total number of values in lower cut of outliers\n",
    "    print('Identified upper outliers: %d' % len(outliers_higher)) # printing total number of values in higher cut of outliers\n",
    "    print('Identified outliers: %d' % len(outliers_total)) # printing total number of values outliers of both sides\n",
    "    print('Non-outlier observations: %d' % len(outliers_removed)) # printing total number of non outlier values\n",
    "    print(\"Total percentual of Outliers: \", round((len(outliers_total) / len(outliers_removed) )*100, 4)) # Percentual of outliers in points\n",
    "    \n",
    "    return"
   ]
  },
  {
   "cell_type": "code",
   "execution_count": 121,
   "metadata": {},
   "outputs": [
    {
     "name": "stdout",
     "output_type": "stream",
     "text": [
      "Identified lowest outliers: 0\n",
      "Identified upper outliers: 819\n",
      "Identified outliers: 819\n",
      "Non-outlier observations: 49518\n",
      "Total percentual of Outliers:  1.6539\n"
     ]
    }
   ],
   "source": [
    "CalcOutliers(data['price'])"
   ]
  },
  {
   "cell_type": "code",
   "execution_count": 122,
   "metadata": {},
   "outputs": [
    {
     "name": "stdout",
     "output_type": "stream",
     "text": [
      "Identified lowest outliers: 0\n",
      "Identified upper outliers: 16\n",
      "Identified outliers: 16\n",
      "Non-outlier observations: 50321\n",
      "Total percentual of Outliers:  0.0318\n"
     ]
    }
   ],
   "source": [
    "CalcOutliers(data['points'])"
   ]
  },
  {
   "cell_type": "code",
   "execution_count": 123,
   "metadata": {},
   "outputs": [
    {
     "name": "stdout",
     "output_type": "stream",
     "text": [
      "Skewness=-0.056\n",
      "Kurtosis=-0.449\n"
     ]
    },
    {
     "data": {
      "image/png": "[encoded data removed]",
      "text/plain": [
       "<Figure size 432x288 with 1 Axes>"
      ]
     },
     "metadata": {
      "needs_background": "light"
     },
     "output_type": "display_data"
    }
   ],
   "source": [
    "print('Skewness=%.3f' %data['points'].skew())\n",
    "print('Kurtosis=%.3f' %data['points'].kurtosis())\n",
    "sns.distplot(data['points'], bins=20, kde=True);"
   ]
  },
  {
   "cell_type": "code",
   "execution_count": 124,
   "metadata": {},
   "outputs": [
    {
     "name": "stdout",
     "output_type": "stream",
     "text": [
      "Skewness=11.157\n",
      "Kurtosis=574.117\n"
     ]
    },
    {
     "data": {
      "image/png": "[encoded data removed]",
      "text/plain": [
       "<Figure size 432x288 with 1 Axes>"
      ]
     },
     "metadata": {
      "needs_background": "light"
     },
     "output_type": "display_data"
    }
   ],
   "source": [
    "print('Skewness=%.3f' %data['price'].skew())\n",
    "print('Kurtosis=%.3f' %data['price'].kurtosis())\n",
    "sns.distplot(data['price'], bins=20, kde=True);"
   ]
  },
  {
   "cell_type": "code",
   "execution_count": 125,
   "metadata": {},
   "outputs": [],
   "source": [
    "data['price_log'] = np.log(data['price'])"
   ]
  },
  {
   "cell_type": "code",
   "execution_count": 126,
   "metadata": {},
   "outputs": [
    {
     "name": "stdout",
     "output_type": "stream",
     "text": [
      "Skewness=0.223\n",
      "Kurtosis=0.247\n"
     ]
    },
    {
     "data": {
      "image/png": "[encoded data removed]",
      "text/plain": [
       "<Figure size 432x288 with 1 Axes>"
      ]
     },
     "metadata": {
      "needs_background": "light"
     },
     "output_type": "display_data"
    }
   ],
   "source": [
    "print('Skewness=%.3f' %data['price_log'].skew())\n",
    "print('Kurtosis=%.3f' %data['price_log'].kurtosis())\n",
    "sns.distplot(data['price_log'], bins=20, kde=True);"
   ]
  },
  {
   "cell_type": "code",
   "execution_count": 127,
   "metadata": {},
   "outputs": [
    {
     "data": {
      "image/png": "[encoded data removed]",
      "text/plain": [
       "<Figure size 432x288 with 1 Axes>"
      ]
     },
     "metadata": {
      "needs_background": "light"
     },
     "output_type": "display_data"
    }
   ],
   "source": [
    "sns.boxplot(x = 'points', y = 'price_log', palette = 'Set2', data = data, linewidth = 1.5);"
   ]
  },
  {
   "cell_type": "code",
   "execution_count": 128,
   "metadata": {},
   "outputs": [],
   "source": [
    "# The overall trend that prices go up as points increase is obvious. That is, there exists a positive correlation between these two. Of course, among the wines that have the same points, their prices can vary a lot."
   ]
  },
  {
   "cell_type": "code",
   "execution_count": 129,
   "metadata": {},
   "outputs": [
    {
     "data": {
      "text/plain": [
       "0.45428161428383884"
      ]
     },
     "execution_count": 129,
     "metadata": {},
     "output_type": "execute_result"
    }
   ],
   "source": [
    "data['points'].corr(data['price'])"
   ]
  },
  {
   "cell_type": "code",
   "execution_count": 130,
   "metadata": {
    "scrolled": true
   },
   "outputs": [
    {
     "data": {
      "text/plain": [
       "0.5540755361766307"
      ]
     },
     "execution_count": 130,
     "metadata": {},
     "output_type": "execute_result"
    }
   ],
   "source": [
    "data['points'].corr(data['price_log'])"
   ]
  },
  {
   "cell_type": "code",
   "execution_count": 131,
   "metadata": {
    "scrolled": true
   },
   "outputs": [
    {
     "data": {
      "text/plain": [
       "unknownT              15965\n",
       "Virginie Boone         8681\n",
       "Paul Gregutt           8647\n",
       "Matt Kettmann          5714\n",
       "Sean P. Sullivan       4419\n",
       "Jim Gordon             3759\n",
       "Anna Lee C. Iijima     2192\n",
       "Alexander Peartree      383\n",
       "Susan Kostrzewa         224\n",
       "Carrie Dykes            129\n",
       "Joe Czerwinski          103\n",
       "Michael Schachner        71\n",
       "Fiona Adams              24\n",
       "Lauren Buzzeo            19\n",
       "Christina Pickard         5\n",
       "Roger Voss                2\n",
       "Name: taster_name, dtype: int64"
      ]
     },
     "execution_count": 131,
     "metadata": {},
     "output_type": "execute_result"
    }
   ],
   "source": [
    "data['taster_name'].value_counts()"
   ]
  },
  {
   "cell_type": "code",
   "execution_count": 132,
   "metadata": {},
   "outputs": [
    {
     "data": {
      "text/plain": [
       "Central Coast        10211\n",
       "Sonoma                8360\n",
       "Columbia Valley       7451\n",
       "Napa                  6358\n",
       "unknownR2             3684\n",
       "Willamette Valley     3131\n",
       "California Other      2492\n",
       "Finger Lakes          1631\n",
       "Sierra Foothills      1345\n",
       "Napa-Sonoma           1084\n",
       "Central Valley         991\n",
       "Southern Oregon        838\n",
       "Oregon Other           670\n",
       "Long Island            607\n",
       "North Coast            533\n",
       "Washington Other       495\n",
       "South Coast            251\n",
       "New York Other         205\n",
       "Name: region_2, dtype: int64"
      ]
     },
     "execution_count": 132,
     "metadata": {},
     "output_type": "execute_result"
    }
   ],
   "source": [
    "data['region_2'].value_counts()"
   ]
  },
  {
   "cell_type": "code",
   "execution_count": 133,
   "metadata": {},
   "outputs": [
    {
     "data": {
      "image/png": "[encoded data removed]",
      "text/plain": [
       "<Figure size 864x504 with 1 Axes>"
      ]
     },
     "metadata": {
      "needs_background": "light"
     },
     "output_type": "display_data"
    }
   ],
   "source": [
    "fig, ax = plt.subplots(1, 1, figsize = (12, 7))\n",
    "col_order = data.groupby(['region_2'])['points'].aggregate(np.median).reset_index().sort_values('points')\n",
    "p = sns.boxplot(x = 'region_2', y = 'points', palette = 'Set3', data = data, order = col_order['region_2'], linewidth = 1.5)\n",
    "plt.setp(p.get_xticklabels(), rotation = 90)\n",
    "ax.set_xlabel('');"
   ]
  },
  {
   "cell_type": "code",
   "execution_count": 99,
   "metadata": {},
   "outputs": [],
   "source": [
    "#The median points of wines from Willamette Valley, Columbia Valley, and Napa seem to be the same. These three regions are all located in the US. Actually the regions listed in the plot are all located in the US. It seems that US wine regions are populated well while regions of other countries are not in region_2 column."
   ]
  },
  {
   "cell_type": "code",
   "execution_count": 134,
   "metadata": {},
   "outputs": [
    {
     "name": "stdout",
     "output_type": "stream",
     "text": [
      "<class 'pandas.core.frame.DataFrame'>\n",
      "Int64Index: 50337 entries, 2 to 129967\n",
      "Data columns (total 10 columns):\n",
      "points                    50337 non-null int64\n",
      "price                     50337 non-null float64\n",
      "province                  50337 non-null object\n",
      "region_1                  50337 non-null object\n",
      "region_2                  50337 non-null object\n",
      "taster_name               50337 non-null object\n",
      "variety                   50337 non-null object\n",
      "winery                    50337 non-null object\n",
      "description_word_count    50337 non-null int64\n",
      "price_log                 50337 non-null float64\n",
      "dtypes: float64(2), int64(2), object(6)\n",
      "memory usage: 5.5+ MB\n"
     ]
    }
   ],
   "source": [
    "data.info()"
   ]
  },
  {
   "cell_type": "code",
   "execution_count": 135,
   "metadata": {},
   "outputs": [],
   "source": [
    "data = pd.get_dummies(data=data, columns=['province','region_1','region_2', \n",
    "                                         'taster_name', 'variety', 'winery'])"
   ]
  },
  {
   "cell_type": "code",
   "execution_count": 136,
   "metadata": {},
   "outputs": [
    {
     "data": {
      "text/html": [
       "<div>\n",
       "<style scoped>\n",
       "    .dataframe tbody tr th:only-of-type {\n",
       "        vertical-align: middle;\n",
       "    }\n",
       "\n",
       "    .dataframe tbody tr th {\n",
       "        vertical-align: top;\n",
       "    }\n",
       "\n",
       "    .dataframe thead th {\n",
       "        text-align: right;\n",
       "    }\n",
       "</style>\n",
       "<table border=\"1\" class=\"dataframe\">\n",
       "  <thead>\n",
       "    <tr style=\"text-align: right;\">\n",
       "      <th></th>\n",
       "      <th>points</th>\n",
       "      <th>price</th>\n",
       "      <th>description_word_count</th>\n",
       "      <th>price_log</th>\n",
       "      <th>province_America</th>\n",
       "      <th>province_Arizona</th>\n",
       "      <th>province_California</th>\n",
       "      <th>province_Colorado</th>\n",
       "      <th>province_Connecticut</th>\n",
       "      <th>province_Hawaii</th>\n",
       "      <th>...</th>\n",
       "      <th>winery_kukkula</th>\n",
       "      <th>winery_m2 Wines</th>\n",
       "      <th>winery_next:</th>\n",
       "      <th>winery_pb</th>\n",
       "      <th>winery_the Ghost of 413</th>\n",
       "      <th>winery_un4seen</th>\n",
       "      <th>winery_Écluse</th>\n",
       "      <th>winery_Élevée Winegrowers</th>\n",
       "      <th>winery_Órale</th>\n",
       "      <th>winery_àMaurice</th>\n",
       "    </tr>\n",
       "  </thead>\n",
       "  <tbody>\n",
       "    <tr>\n",
       "      <th>2</th>\n",
       "      <td>87</td>\n",
       "      <td>14.0</td>\n",
       "      <td>28</td>\n",
       "      <td>2.639057</td>\n",
       "      <td>0</td>\n",
       "      <td>0</td>\n",
       "      <td>0</td>\n",
       "      <td>0</td>\n",
       "      <td>0</td>\n",
       "      <td>0</td>\n",
       "      <td>...</td>\n",
       "      <td>0</td>\n",
       "      <td>0</td>\n",
       "      <td>0</td>\n",
       "      <td>0</td>\n",
       "      <td>0</td>\n",
       "      <td>0</td>\n",
       "      <td>0</td>\n",
       "      <td>0</td>\n",
       "      <td>0</td>\n",
       "      <td>0</td>\n",
       "    </tr>\n",
       "    <tr>\n",
       "      <th>3</th>\n",
       "      <td>87</td>\n",
       "      <td>13.0</td>\n",
       "      <td>33</td>\n",
       "      <td>2.564949</td>\n",
       "      <td>0</td>\n",
       "      <td>0</td>\n",
       "      <td>0</td>\n",
       "      <td>0</td>\n",
       "      <td>0</td>\n",
       "      <td>0</td>\n",
       "      <td>...</td>\n",
       "      <td>0</td>\n",
       "      <td>0</td>\n",
       "      <td>0</td>\n",
       "      <td>0</td>\n",
       "      <td>0</td>\n",
       "      <td>0</td>\n",
       "      <td>0</td>\n",
       "      <td>0</td>\n",
       "      <td>0</td>\n",
       "      <td>0</td>\n",
       "    </tr>\n",
       "    <tr>\n",
       "      <th>4</th>\n",
       "      <td>87</td>\n",
       "      <td>65.0</td>\n",
       "      <td>41</td>\n",
       "      <td>4.174387</td>\n",
       "      <td>0</td>\n",
       "      <td>0</td>\n",
       "      <td>0</td>\n",
       "      <td>0</td>\n",
       "      <td>0</td>\n",
       "      <td>0</td>\n",
       "      <td>...</td>\n",
       "      <td>0</td>\n",
       "      <td>0</td>\n",
       "      <td>0</td>\n",
       "      <td>0</td>\n",
       "      <td>0</td>\n",
       "      <td>0</td>\n",
       "      <td>0</td>\n",
       "      <td>0</td>\n",
       "      <td>0</td>\n",
       "      <td>0</td>\n",
       "    </tr>\n",
       "    <tr>\n",
       "      <th>10</th>\n",
       "      <td>87</td>\n",
       "      <td>19.0</td>\n",
       "      <td>36</td>\n",
       "      <td>2.944439</td>\n",
       "      <td>0</td>\n",
       "      <td>0</td>\n",
       "      <td>1</td>\n",
       "      <td>0</td>\n",
       "      <td>0</td>\n",
       "      <td>0</td>\n",
       "      <td>...</td>\n",
       "      <td>0</td>\n",
       "      <td>0</td>\n",
       "      <td>0</td>\n",
       "      <td>0</td>\n",
       "      <td>0</td>\n",
       "      <td>0</td>\n",
       "      <td>0</td>\n",
       "      <td>0</td>\n",
       "      <td>0</td>\n",
       "      <td>0</td>\n",
       "    </tr>\n",
       "    <tr>\n",
       "      <th>12</th>\n",
       "      <td>87</td>\n",
       "      <td>34.0</td>\n",
       "      <td>28</td>\n",
       "      <td>3.526361</td>\n",
       "      <td>0</td>\n",
       "      <td>0</td>\n",
       "      <td>1</td>\n",
       "      <td>0</td>\n",
       "      <td>0</td>\n",
       "      <td>0</td>\n",
       "      <td>...</td>\n",
       "      <td>0</td>\n",
       "      <td>0</td>\n",
       "      <td>0</td>\n",
       "      <td>0</td>\n",
       "      <td>0</td>\n",
       "      <td>0</td>\n",
       "      <td>0</td>\n",
       "      <td>0</td>\n",
       "      <td>0</td>\n",
       "      <td>0</td>\n",
       "    </tr>\n",
       "  </tbody>\n",
       "</table>\n",
       "<p>5 rows × 5962 columns</p>\n",
       "</div>"
      ],
      "text/plain": [
       "    points  price  description_word_count  price_log  province_America  \\\n",
       "2       87   14.0                      28   2.639057                 0   \n",
       "3       87   13.0                      33   2.564949                 0   \n",
       "4       87   65.0                      41   4.174387                 0   \n",
       "10      87   19.0                      36   2.944439                 0   \n",
       "12      87   34.0                      28   3.526361                 0   \n",
       "\n",
       "    province_Arizona  province_California  province_Colorado  \\\n",
       "2                  0                    0                  0   \n",
       "3                  0                    0                  0   \n",
       "4                  0                    0                  0   \n",
       "10                 0                    1                  0   \n",
       "12                 0                    1                  0   \n",
       "\n",
       "    province_Connecticut  province_Hawaii  ...  winery_kukkula  \\\n",
       "2                      0                0  ...               0   \n",
       "3                      0                0  ...               0   \n",
       "4                      0                0  ...               0   \n",
       "10                     0                0  ...               0   \n",
       "12                     0                0  ...               0   \n",
       "\n",
       "    winery_m2 Wines  winery_next:  winery_pb  winery_the Ghost of 413  \\\n",
       "2                 0             0          0                        0   \n",
       "3                 0             0          0                        0   \n",
       "4                 0             0          0                        0   \n",
       "10                0             0          0                        0   \n",
       "12                0             0          0                        0   \n",
       "\n",
       "    winery_un4seen  winery_Écluse  winery_Élevée Winegrowers  winery_Órale  \\\n",
       "2                0              0                          0             0   \n",
       "3                0              0                          0             0   \n",
       "4                0              0                          0             0   \n",
       "10               0              0                          0             0   \n",
       "12               0              0                          0             0   \n",
       "\n",
       "    winery_àMaurice  \n",
       "2                 0  \n",
       "3                 0  \n",
       "4                 0  \n",
       "10                0  \n",
       "12                0  \n",
       "\n",
       "[5 rows x 5962 columns]"
      ]
     },
     "execution_count": 136,
     "metadata": {},
     "output_type": "execute_result"
    }
   ],
   "source": [
    "data.head()"
   ]
  },
  {
   "cell_type": "code",
   "execution_count": 137,
   "metadata": {
    "scrolled": false
   },
   "outputs": [
    {
     "name": "stdout",
     "output_type": "stream",
     "text": [
      "<class 'pandas.core.frame.DataFrame'>\n",
      "Int64Index: 50337 entries, 2 to 129967\n",
      "Columns: 5962 entries, points to winery_àMaurice\n",
      "dtypes: float64(2), int64(2), uint8(5958)\n",
      "memory usage: 289.2 MB\n"
     ]
    }
   ],
   "source": [
    "data.info()"
   ]
  },
  {
   "cell_type": "code",
   "execution_count": 142,
   "metadata": {},
   "outputs": [],
   "source": [
    "data = data.drop('price', axis = 1)"
   ]
  },
  {
   "cell_type": "code",
   "execution_count": 143,
   "metadata": {},
   "outputs": [],
   "source": [
    "X = data.loc[:, data.columns != 'points']\n",
    "y = data['points'].values.reshape(-1,1)"
   ]
  },
  {
   "cell_type": "code",
   "execution_count": 144,
   "metadata": {},
   "outputs": [],
   "source": [
    "\n",
    "X_train, X_test, y_train, y_test = train_test_split(X, y, test_size=0.3, random_state=101)\n",
    "lm = LinearRegression()\n",
    "lm.fit(X_train,y_train)\n",
    "predictions = lm.predict(X_test)\n",
    "\n",
    "#print('RMSE:', np.sqrt(metrics.mean_squared_error(10**(y_test), 10**(predictions))))"
   ]
  },
  {
   "cell_type": "code",
   "execution_count": 148,
   "metadata": {},
   "outputs": [
    {
     "data": {
      "text/plain": [
       "array([[8.41784286e+01],\n",
       "       [8.87184906e+01],\n",
       "       [8.90508652e+01],\n",
       "       ...,\n",
       "       [2.66687203e+08],\n",
       "       [9.27542038e+01],\n",
       "       [8.65272293e+01]])"
      ]
     },
     "execution_count": 148,
     "metadata": {},
     "output_type": "execute_result"
    }
   ],
   "source": [
    "predictions"
   ]
  },
  {
   "cell_type": "code",
   "execution_count": null,
   "metadata": {},
   "outputs": [],
   "source": []
  },
  {
   "cell_type": "code",
   "execution_count": null,
   "metadata": {},
   "outputs": [],
   "source": []
  }
 ],
 "metadata": {
  "kernelspec": {
   "display_name": "Python 3",
   "language": "python",
   "name": "python3"
  },
  "language_info": {
   "codemirror_mode": {
    "name": "ipython",
    "version": 3
   },
   "file_extension": ".py",
   "mimetype": "text/x-python",
   "name": "python",
   "nbconvert_exporter": "python",
   "pygments_lexer": "ipython3",
   "version": "3.7.3"
  }
 },
 "nbformat": 4,
 "nbformat_minor": 2
}
