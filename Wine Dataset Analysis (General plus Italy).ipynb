{
 "cells": [
  {
   "cell_type": "code",
   "execution_count": 12,
   "metadata": {},
   "outputs": [],
   "source": [
    "\n",
    "library(dplyr)\n",
    "library(ggplot2)\n",
    "library(MCMCpack)\n",
    "# library(gridExtra)\n",
    "# library(stringr)\n",
    "# library(tidyr)\n",
    "# library(httr)\n",
    "# library(jsonlite)\n",
    "# library(lubridate)"
   ]
  },
  {
   "cell_type": "code",
   "execution_count": 13,
   "metadata": {
    "scrolled": true
   },
   "outputs": [
    {
     "name": "stdout",
     "output_type": "stream",
     "text": [
      "Rows: 129,971\n",
      "Columns: 14\n",
      "$ X                     \u001b[3m\u001b[90m<int>\u001b[39m\u001b[23m 0, 1, 2, 3, 4, 5, 6, 7, 8, 9, 10, 11, 12, 13,...\n",
      "$ country               \u001b[3m\u001b[90m<fct>\u001b[39m\u001b[23m Italy, Portugal, US, US, US, Spain, Italy, Fr...\n",
      "$ description           \u001b[3m\u001b[90m<fct>\u001b[39m\u001b[23m \"Aromas include tropical fruit, broom, brimst...\n",
      "$ designation           \u001b[3m\u001b[90m<fct>\u001b[39m\u001b[23m VulkÃ  Bianco, Avidagos, , Reserve Late Harve...\n",
      "$ points                \u001b[3m\u001b[90m<int>\u001b[39m\u001b[23m 87, 87, 87, 87, 87, 87, 87, 87, 87, 87, 87, 8...\n",
      "$ price                 \u001b[3m\u001b[90m<dbl>\u001b[39m\u001b[23m NA, 15, 14, 13, 65, 15, 16, 24, 12, 27, 19, 3...\n",
      "$ province              \u001b[3m\u001b[90m<fct>\u001b[39m\u001b[23m Sicily & Sardinia, Douro, Oregon, Michigan, O...\n",
      "$ region_1              \u001b[3m\u001b[90m<fct>\u001b[39m\u001b[23m Etna, , Willamette Valley, Lake Michigan Shor...\n",
      "$ region_2              \u001b[3m\u001b[90m<fct>\u001b[39m\u001b[23m , , Willamette Valley, , Willamette Valley, ,...\n",
      "$ taster_name           \u001b[3m\u001b[90m<fct>\u001b[39m\u001b[23m Kerin Oâ€™Keefe, Roger Voss, Paul Gregutt, Al...\n",
      "$ taster_twitter_handle \u001b[3m\u001b[90m<fct>\u001b[39m\u001b[23m @kerinokeefe, @vossroger, @paulgwineÂ , , @pa...\n",
      "$ title                 \u001b[3m\u001b[90m<fct>\u001b[39m\u001b[23m Nicosia 2013 VulkÃ  Bianco  (Etna), Quinta do...\n",
      "$ variety               \u001b[3m\u001b[90m<fct>\u001b[39m\u001b[23m White Blend, Portuguese Red, Pinot Gris, Ries...\n",
      "$ winery                \u001b[3m\u001b[90m<fct>\u001b[39m\u001b[23m Nicosia, Quinta dos Avidagos, Rainstorm, St. ...\n"
     ]
    }
   ],
   "source": [
    "wineFullData <- read.csv(\"data/winemag-data-130k-v2.csv\")\n",
    "glimpse(wineFullData)"
   ]
  },
  {
   "cell_type": "code",
   "execution_count": 14,
   "metadata": {},
   "outputs": [],
   "source": [
    "#wine[wine$price == 15 ] , wine$variety == \"Sauvignon Blanc\"] || \"Chardonnay\"\n",
    "\n",
    "wine <- wineFullData[ which((wineFullData$price == 15) & (((wineFullData$country == \"South Africa\") & (wineFullData$variety == \"Sauvignon Blanc\")) | ((wineFullData$country == \"Chile\") & (wineFullData$variety == \"Chardonnay\"))))  , ]"
   ]
  },
  {
   "cell_type": "code",
   "execution_count": 15,
   "metadata": {
    "scrolled": true
   },
   "outputs": [
    {
     "name": "stdout",
     "output_type": "stream",
     "text": [
      "Dimension for Sauvignon Blanc wines from South Africa and Chardonnay from Chile:  51 14"
     ]
    }
   ],
   "source": [
    "cat(\"Dimension for Sauvignon Blanc wines from South Africa and Chardonnay from Chile: \" ,  dim(wine))"
   ]
  },
  {
   "cell_type": "code",
   "execution_count": 16,
   "metadata": {},
   "outputs": [],
   "source": [
    "wine$variety <- factor(wine$variety)"
   ]
  },
  {
   "cell_type": "code",
   "execution_count": 17,
   "metadata": {},
   "outputs": [
    {
     "data": {
      "image/png": "[encoded data removed]",
      "text/plain": [
       "plot without title"
      ]
     },
     "metadata": {
      "image/png": {
       "height": 420,
       "width": 420
      },
      "text/plain": {
       "height": 420,
       "width": 420
      }
     },
     "output_type": "display_data"
    }
   ],
   "source": [
    "ggplot(wine) + geom_boxplot(aes(variety, points, fill = variety)) +\n",
    "geom_jitter(aes(variety, points, shape = variety))"
   ]
  },
  {
   "cell_type": "code",
   "execution_count": 18,
   "metadata": {},
   "outputs": [
    {
     "data": {
      "text/html": [
       "<dl class=dl-horizontal>\n",
       "\t<dt>Chardonnay</dt>\n",
       "\t\t<dd>85.0810810810811</dd>\n",
       "\t<dt>Sauvignon Blanc</dt>\n",
       "\t\t<dd>87.2142857142857</dd>\n",
       "</dl>\n"
      ],
      "text/latex": [
       "\\begin{description*}\n",
       "\\item[Chardonnay] 85.0810810810811\n",
       "\\item[Sauvignon Blanc] 87.2142857142857\n",
       "\\end{description*}\n"
      ],
      "text/markdown": [
       "Chardonnay\n",
       ":   85.0810810810811Sauvignon Blanc\n",
       ":   87.2142857142857\n",
       "\n"
      ],
      "text/plain": [
       "     Chardonnay Sauvignon Blanc \n",
       "       85.08108        87.21429 "
      ]
     },
     "metadata": {},
     "output_type": "display_data"
    }
   ],
   "source": [
    "tapply(wine$points , wine$variety, mean)"
   ]
  },
  {
   "cell_type": "code",
   "execution_count": 19,
   "metadata": {},
   "outputs": [
    {
     "data": {
      "text/html": [
       "<dl class=dl-horizontal>\n",
       "\t<dt>Chardonnay</dt>\n",
       "\t\t<dd>85</dd>\n",
       "\t<dt>Sauvignon Blanc</dt>\n",
       "\t\t<dd>87</dd>\n",
       "</dl>\n"
      ],
      "text/latex": [
       "\\begin{description*}\n",
       "\\item[Chardonnay] 85\n",
       "\\item[Sauvignon Blanc] 87\n",
       "\\end{description*}\n"
      ],
      "text/markdown": [
       "Chardonnay\n",
       ":   85Sauvignon Blanc\n",
       ":   87\n",
       "\n"
      ],
      "text/plain": [
       "     Chardonnay Sauvignon Blanc \n",
       "             85              87 "
      ]
     },
     "metadata": {},
     "output_type": "display_data"
    }
   ],
   "source": [
    "tapply(wine$points , wine$variety, median)"
   ]
  },
  {
   "cell_type": "code",
   "execution_count": 20,
   "metadata": {},
   "outputs": [
    {
     "data": {
      "text/html": [
       "<dl class=dl-horizontal>\n",
       "\t<dt>Chardonnay</dt>\n",
       "\t\t<dd>2.2032599379906</dd>\n",
       "\t<dt>Sauvignon Blanc</dt>\n",
       "\t\t<dd>1.71771634752349</dd>\n",
       "</dl>\n"
      ],
      "text/latex": [
       "\\begin{description*}\n",
       "\\item[Chardonnay] 2.2032599379906\n",
       "\\item[Sauvignon Blanc] 1.71771634752349\n",
       "\\end{description*}\n"
      ],
      "text/markdown": [
       "Chardonnay\n",
       ":   2.2032599379906Sauvignon Blanc\n",
       ":   1.71771634752349\n",
       "\n"
      ],
      "text/plain": [
       "     Chardonnay Sauvignon Blanc \n",
       "       2.203260        1.717716 "
      ]
     },
     "metadata": {},
     "output_type": "display_data"
    }
   ],
   "source": [
    "tapply(wine$points , wine$variety, sd)"
   ]
  },
  {
   "cell_type": "code",
   "execution_count": 21,
   "metadata": {},
   "outputs": [
    {
     "data": {
      "text/plain": [
       "\n",
       "\tTwo Sample t-test\n",
       "\n",
       "data:  points by variety\n",
       "t = -3.2599, df = 49, p-value = 0.00203\n",
       "alternative hypothesis: true difference in means is not equal to 0\n",
       "95 percent confidence interval:\n",
       " -3.4482245 -0.8181847\n",
       "sample estimates:\n",
       "     mean in group Chardonnay mean in group Sauvignon Blanc \n",
       "                     85.08108                      87.21429 \n"
      ]
     },
     "metadata": {},
     "output_type": "display_data"
    }
   ],
   "source": [
    "t.test(points ~ variety, data=wine, var.equal = TRUE)\n"
   ]
  },
  {
   "cell_type": "code",
   "execution_count": 22,
   "metadata": {},
   "outputs": [],
   "source": [
    "compare_2_gibbs <- function(y, ind, mu0 = 85, tau0 = 1/100, del0 = 0, gamma0 = 1/100,\n",
    "a0 = 50, b0 = 1, maxiter = 5000)\n",
    "{\n",
    "y1 <- y[ind == 1]\n",
    "y2 <- y[ind == 2]\n",
    "n1 <- length(y1)\n",
    "n2 <- length(y2)\n",
    "##### starting values\n",
    "mu <- (mean(y1) + mean(y2)) / 2\n",
    "del <- (mean(y1) - mean(y2)) / 2\n",
    "mat_store <- matrix(0, nrow = maxiter, ncol = 3)\n",
    "#####\n",
    "##### Gibbs sampler\n",
    "an <- a0 + (n1 + n2)/2\n",
    "for(s in 1 : maxiter)\n",
    "{\n",
    "##update tau\n",
    "bn <- b0 + 0.5 * (sum((y1 - mu - del) ^ 2) + sum((y2 - mu + del) ^ 2))\n",
    "tau <- rgamma(1, an, bn)\n",
    "##\n",
    "##update mu\n",
    "taun <- tau0 + tau * (n1 + n2)\n",
    "mun <- (tau0 * mu0 + tau * (sum(y1 - del) + sum(y2 + del))) / taun\n",
    "mu <- rnorm(1, mun, sqrt(1/taun))\n",
    "##\n",
    "##update del\n",
    "gamman <- tau0 + tau*(n1 + n2)\n",
    "deln <- ( del0 * tau0 + tau * (sum(y1 - mu) - sum(y2 - mu))) / gamman\n",
    "del<-rnorm(1, deln, sqrt(1/gamman))\n",
    "##\n",
    "## store parameter values\n",
    "mat_store[s, ] <- c(mu, del, tau)\n",
    "}\n",
    "colnames(mat_store) <- c(\"mu\", \"del\", \"tau\")\n",
    "return(mat_store)\n",
    "}"
   ]
  },
  {
   "cell_type": "code",
   "execution_count": 23,
   "metadata": {},
   "outputs": [],
   "source": [
    "fit <- compare_2_gibbs(wine$points, as.factor(wine$variety))"
   ]
  },
  {
   "cell_type": "code",
   "execution_count": 24,
   "metadata": {},
   "outputs": [
    {
     "data": {
      "image/png": "[encoded data removed]",
      "text/plain": [
       "Plot with title \"Density of tau\""
      ]
     },
     "metadata": {
      "image/png": {
       "height": 420,
       "width": 420
      },
      "text/plain": {
       "height": 420,
       "width": 420
      }
     },
     "output_type": "display_data"
    }
   ],
   "source": [
    "plot(as.mcmc(fit))\n"
   ]
  },
  {
   "cell_type": "code",
   "execution_count": 25,
   "metadata": {},
   "outputs": [
    {
     "data": {
      "text/plain": [
       "\n",
       "Quantile (q) = 0.025\n",
       "Accuracy (r) = +/- 0.005\n",
       "Probability (s) = 0.95 \n",
       "                                           \n",
       "     Burn-in  Total Lower bound  Dependence\n",
       "     (M)      (N)   (Nmin)       factor (I)\n",
       " mu  2        3620  3746         0.966     \n",
       " del 2        3741  3746         0.999     \n",
       " tau 2        3561  3746         0.951     \n"
      ]
     },
     "metadata": {},
     "output_type": "display_data"
    }
   ],
   "source": [
    "raftery.diag(as.mcmc(fit))\n"
   ]
  },
  {
   "cell_type": "code",
   "execution_count": 26,
   "metadata": {},
   "outputs": [
    {
     "data": {
      "text/html": [
       "<dl class=dl-horizontal>\n",
       "\t<dt>mu</dt>\n",
       "\t\t<dd>84.8195159701451</dd>\n",
       "\t<dt>del</dt>\n",
       "\t\t<dd>0.0525193692077481</dd>\n",
       "\t<dt>tau</dt>\n",
       "\t\t<dd>50.1113650468399</dd>\n",
       "</dl>\n"
      ],
      "text/latex": [
       "\\begin{description*}\n",
       "\\item[mu] 84.8195159701451\n",
       "\\item[del] 0.0525193692077481\n",
       "\\item[tau] 50.1113650468399\n",
       "\\end{description*}\n"
      ],
      "text/markdown": [
       "mu\n",
       ":   84.8195159701451del\n",
       ":   0.0525193692077481tau\n",
       ":   50.1113650468399\n",
       "\n"
      ],
      "text/plain": [
       "         mu         del         tau \n",
       "84.81951597  0.05251937 50.11136505 "
      ]
     },
     "metadata": {},
     "output_type": "display_data"
    }
   ],
   "source": [
    "apply(fit, 2, mean)"
   ]
  },
  {
   "cell_type": "code",
   "execution_count": 27,
   "metadata": {},
   "outputs": [
    {
     "data": {
      "text/html": [
       "<dl class=dl-horizontal>\n",
       "\t<dt>mu</dt>\n",
       "\t\t<dd>9.98439393110955</dd>\n",
       "\t<dt>del</dt>\n",
       "\t\t<dd>9.95805493734247</dd>\n",
       "\t<dt>tau</dt>\n",
       "\t\t<dd>7.01784173445866</dd>\n",
       "</dl>\n"
      ],
      "text/latex": [
       "\\begin{description*}\n",
       "\\item[mu] 9.98439393110955\n",
       "\\item[del] 9.95805493734247\n",
       "\\item[tau] 7.01784173445866\n",
       "\\end{description*}\n"
      ],
      "text/markdown": [
       "mu\n",
       ":   9.98439393110955del\n",
       ":   9.95805493734247tau\n",
       ":   7.01784173445866\n",
       "\n"
      ],
      "text/plain": [
       "      mu      del      tau \n",
       "9.984394 9.958055 7.017842 "
      ]
     },
     "metadata": {},
     "output_type": "display_data"
    }
   ],
   "source": [
    "apply(fit, 2, sd)"
   ]
  },
  {
   "cell_type": "code",
   "execution_count": 28,
   "metadata": {},
   "outputs": [
    {
     "data": {
      "text/html": [
       "0.142309483388769"
      ],
      "text/latex": [
       "0.142309483388769"
      ],
      "text/markdown": [
       "0.142309483388769"
      ],
      "text/plain": [
       "[1] 0.1423095"
      ]
     },
     "metadata": {},
     "output_type": "display_data"
    }
   ],
   "source": [
    "mean(1/sqrt(fit[, 3]))"
   ]
  },
  {
   "cell_type": "code",
   "execution_count": 29,
   "metadata": {},
   "outputs": [
    {
     "data": {
      "text/html": [
       "0.0100408485515116"
      ],
      "text/latex": [
       "0.0100408485515116"
      ],
      "text/markdown": [
       "0.0100408485515116"
      ],
      "text/plain": [
       "[1] 0.01004085"
      ]
     },
     "metadata": {},
     "output_type": "display_data"
    }
   ],
   "source": [
    "sd(1/sqrt(fit[, 3]))"
   ]
  },
  {
   "cell_type": "markdown",
   "metadata": {},
   "source": [
    "## Predictive distributions"
   ]
  },
  {
   "cell_type": "code",
   "execution_count": 30,
   "metadata": {},
   "outputs": [],
   "source": [
    "y1_sim <- rnorm(5000, fit[, 1] + fit[, 2], sd = 1/sqrt(fit[, 3]))\n",
    "y2_sim <- rnorm(5000, fit[, 1] - fit[, 2], sd = 1/sqrt(fit[, 3]))\n"
   ]
  },
  {
   "cell_type": "code",
   "execution_count": 31,
   "metadata": {},
   "outputs": [
    {
     "name": "stderr",
     "output_type": "stream",
     "text": [
      "`stat_bin()` using `bins = 30`. Pick better value with `binwidth`.\n",
      "\n"
     ]
    },
    {
     "data": {
      "image/png": "[encoded data removed]",
      "text/plain": [
       "plot without title"
      ]
     },
     "metadata": {
      "image/png": {
       "height": 420,
       "width": 420
      },
      "text/plain": {
       "height": 420,
       "width": 420
      }
     },
     "output_type": "display_data"
    }
   ],
   "source": [
    "ggplot(data.frame(y_sim_diff = y1_sim - y2_sim)) + stat_bin(aes(y_sim_diff))\n"
   ]
  },
  {
   "cell_type": "code",
   "execution_count": 32,
   "metadata": {},
   "outputs": [
    {
     "data": {
      "text/html": [
       "0.5018"
      ],
      "text/latex": [
       "0.5018"
      ],
      "text/markdown": [
       "0.5018"
      ],
      "text/plain": [
       "[1] 0.5018"
      ]
     },
     "metadata": {},
     "output_type": "display_data"
    }
   ],
   "source": [
    "mean(y1_sim > y2_sim) #0.7 ===>>>>> "
   ]
  },
  {
   "cell_type": "code",
   "execution_count": 25,
   "metadata": {},
   "outputs": [
    {
     "data": {
      "image/png": "[encoded data removed]",
      "text/plain": [
       "plot without title"
      ]
     },
     "metadata": {
      "image/png": {
       "height": 420,
       "width": 420
      },
      "text/plain": {
       "height": 420,
       "width": 420
      }
     },
     "output_type": "display_data"
    }
   ],
   "source": [
    "ggplot(data.frame(y1_sim, y2_sim)) + geom_point(aes(y1_sim, y2_sim), alpha = 0.3) +\n",
    "geom_abline(slope = 1, intercept = 0)"
   ]
  },
  {
   "cell_type": "markdown",
   "metadata": {},
   "source": [
    "### b. Consider the Italian wines in the dataset. Which regions produce better than average wine? Limit your analysis to wines costing less than €20 and to regions which have at least four such reviews. "
   ]
  },
  {
   "cell_type": "code",
   "execution_count": 5,
   "metadata": {},
   "outputs": [],
   "source": [
    "wine2 <- wineFullData[ which((wineFullData$price < 20) & (wineFullData$country == \"Italy\"))  , ]"
   ]
  },
  {
   "cell_type": "code",
   "execution_count": 6,
   "metadata": {},
   "outputs": [],
   "source": [
    "wine2 <- wine2 %>%\n",
    "  group_by(region_1) %>%\n",
    "  filter(n() >= 4)"
   ]
  },
  {
   "cell_type": "code",
   "execution_count": 7,
   "metadata": {
    "scrolled": false
   },
   "outputs": [
    {
     "data": {
      "text/html": [
       "<ol class=list-inline>\n",
       "\t<li>4702</li>\n",
       "\t<li>14</li>\n",
       "</ol>\n"
      ],
      "text/latex": [
       "\\begin{enumerate*}\n",
       "\\item 4702\n",
       "\\item 14\n",
       "\\end{enumerate*}\n"
      ],
      "text/markdown": [
       "1. 4702\n",
       "2. 14\n",
       "\n",
       "\n"
      ],
      "text/plain": [
       "[1] 4702   14"
      ]
     },
     "metadata": {},
     "output_type": "display_data"
    }
   ],
   "source": [
    "dim(wine2)"
   ]
  },
  {
   "cell_type": "code",
   "execution_count": 8,
   "metadata": {},
   "outputs": [],
   "source": [
    "wine2 <- droplevels(wine2)"
   ]
  },
  {
   "cell_type": "code",
   "execution_count": 9,
   "metadata": {},
   "outputs": [],
   "source": [
    "wine2$region_1 <- as.factor(wine2$region_1)\n",
    "\n",
    "wine2$points <- wine2$points + rnorm(nrow(wine2), 1, 1)/1000"
   ]
  },
  {
   "cell_type": "code",
   "execution_count": 10,
   "metadata": {},
   "outputs": [
    {
     "data": {
      "text/html": [
       "163"
      ],
      "text/latex": [
       "163"
      ],
      "text/markdown": [
       "163"
      ],
      "text/plain": [
       "[1] 163"
      ]
     },
     "metadata": {},
     "output_type": "display_data"
    }
   ],
   "source": [
    "nlevels(wine2$region_1)"
   ]
  },
  {
   "cell_type": "code",
   "execution_count": 11,
   "metadata": {},
   "outputs": [
    {
     "name": "stderr",
     "output_type": "stream",
     "text": [
      "ERROR while rich displaying an object: Error: Aesthetics must be either length 1 or the same as the data (4702): x\n",
      "\n",
      "Traceback:\n",
      "1. FUN(X[[i]], ...)\n",
      "2. tryCatch(withCallingHandlers({\n",
      " .     if (!mime %in% names(repr::mime2repr)) \n",
      " .         stop(\"No repr_* for mimetype \", mime, \" in repr::mime2repr\")\n",
      " .     rpr <- repr::mime2repr[[mime]](obj)\n",
      " .     if (is.null(rpr)) \n",
      " .         return(NULL)\n",
      " .     prepare_content(is.raw(rpr), rpr)\n",
      " . }, error = error_handler), error = outer_handler)\n",
      "3. tryCatchList(expr, classes, parentenv, handlers)\n",
      "4. tryCatchOne(expr, names, parentenv, handlers[[1L]])\n",
      "5. doTryCatch(return(expr), name, parentenv, handler)\n",
      "6. withCallingHandlers({\n",
      " .     if (!mime %in% names(repr::mime2repr)) \n",
      " .         stop(\"No repr_* for mimetype \", mime, \" in repr::mime2repr\")\n",
      " .     rpr <- repr::mime2repr[[mime]](obj)\n",
      " .     if (is.null(rpr)) \n",
      " .         return(NULL)\n",
      " .     prepare_content(is.raw(rpr), rpr)\n",
      " . }, error = error_handler)\n",
      "7. repr::mime2repr[[mime]](obj)\n",
      "8. repr_text.default(obj)\n",
      "9. paste(capture.output(print(obj)), collapse = \"\\n\")\n",
      "10. capture.output(print(obj))\n",
      "11. evalVis(expr)\n",
      "12. withVisible(eval(expr, pf))\n",
      "13. eval(expr, pf)\n",
      "14. eval(expr, pf)\n",
      "15. print(obj)\n",
      "16. print.ggplot(obj)\n",
      "17. ggplot_build(x)\n",
      "18. ggplot_build.ggplot(x)\n",
      "19. by_layer(function(l, d) l$compute_aesthetics(d, plot))\n",
      "20. f(l = layers[[i]], d = data[[i]])\n",
      "21. l$compute_aesthetics(d, plot)\n",
      "22. f(..., self = self)\n",
      "23. check_aesthetics(evaled, n)\n",
      "24. abort(glue(\"Aesthetics must be either length 1 or the same as the data ({n}): \", \n",
      "  .     glue_collapse(names(which(!good)), \", \", last = \" and \")))\n",
      "25. signal_abort(cnd)\n"
     ]
    },
    {
     "data": {
      "image/png": "[encoded data removed]",
      "text/plain": [
       "plot without title"
      ]
     },
     "metadata": {
      "image/png": {
       "height": 420,
       "width": 420
      },
      "text/plain": {
       "height": 420,
       "width": 420
      }
     },
     "output_type": "display_data"
    }
   ],
   "source": [
    "ggplot(wine2) + geom_boxplot(aes(x = reorder(region_1, points, median), points,\n",
    "fill = reorder(region_1, points, median)), show.legend=FALSE)"
   ]
  },
  {
   "cell_type": "code",
   "execution_count": 15,
   "metadata": {},
   "outputs": [
    {
     "data": {
      "image/png": "[encoded data removed]",
      "text/plain": [
       "plot without title"
      ]
     },
     "metadata": {
      "image/png": {
       "height": 420,
       "width": 420
      },
      "text/plain": {
       "height": 420,
       "width": 420
      }
     },
     "output_type": "display_data"
    }
   ],
   "source": [
    "ggplot(wine2, aes(x = reorder(region_1, region_1, length))) + stat_count()\n"
   ]
  },
  {
   "cell_type": "code",
   "execution_count": 16,
   "metadata": {},
   "outputs": [
    {
     "name": "stderr",
     "output_type": "stream",
     "text": [
      "`stat_bin()` using `bins = 30`. Pick better value with `binwidth`.\n",
      "\n"
     ]
    },
    {
     "data": {
      "image/png": "[encoded data removed]",
      "text/plain": [
       "plot without title"
      ]
     },
     "metadata": {
      "image/png": {
       "height": 420,
       "width": 420
      },
      "text/plain": {
       "height": 420,
       "width": 420
      }
     },
     "output_type": "display_data"
    }
   ],
   "source": [
    "ggplot(wine2, aes(points)) + stat_bin()"
   ]
  },
  {
   "cell_type": "code",
   "execution_count": 17,
   "metadata": {},
   "outputs": [
    {
     "data": {
      "image/png": "[encoded data removed]",
      "text/plain": [
       "plot without title"
      ]
     },
     "metadata": {
      "image/png": {
       "height": 420,
       "width": 420
      },
      "text/plain": {
       "height": 420,
       "width": 420
      }
     },
     "output_type": "display_data"
    }
   ],
   "source": [
    "ggplot(data.frame(size = tapply(wine2$points, wine2$region_1, length),\n",
    "mean_score = tapply(wine2$points, wine2$region_1, mean)), aes(size, mean_score)) +\n",
    "geom_point() + xlab(\"Region 1 sample size\") + ylab(\"Mean Score\") +\n",
    "ggtitle(\"Effect size versus sample size\")\n"
   ]
  },
  {
   "cell_type": "code",
   "execution_count": 18,
   "metadata": {},
   "outputs": [],
   "source": [
    "compare_m_gibbs <- function(y, ind, mu0 = 50, tau0 = 1/400,\n",
    "a0 = 1, b0 = 50, alpha0 =1, beta0 = 50, maxiter = 5000)\n",
    "{\n",
    "### weakly informative priors\n",
    "a0 <- 1/2 ; b0 <- 50 ## tau_w hyperparameters\n",
    "alpha0 <-1/2 ; beta0 <- 50 ## tau_b hyperparameters\n",
    "mu0<-50 ; tau0 <- 1/25\n",
    "###\n",
    "### starting values\n",
    "m <- nlevels(ind)\n",
    "ybar <- theta <- tapply(y, ind, mean)\n",
    "tau_w <- mean(1 / tapply(y, ind, var)) ##within group precision\n",
    "mu <- mean(theta)\n",
    "\n",
    "    tau_b <-var(theta) ##between group precision\n",
    "n_m <- tapply(y, ind, length)\n",
    "alphan <- alpha0 + sum(n_m)/2\n",
    "###\n",
    "### setup MCMC\n",
    "theta_mat <- matrix(0, nrow=maxiter, ncol=m)\n",
    "mat_store <- matrix(0, nrow=maxiter, ncol=3)\n",
    "###\n",
    "### MCMC algorithm\n",
    "for(s in 1:maxiter)\n",
    "{\n",
    "# sample new values of the thetas\n",
    "for(j in 1:m)\n",
    "{\n",
    "taun <- n_m[j] * tau_w + tau_b\n",
    "thetan <- (ybar[j] * n_m[j] * tau_w + mu * tau_b) / taun\n",
    "theta[j]<-rnorm(1, thetan, 1/sqrt(taun))\n",
    "}\n",
    "#sample new value of tau_w\n",
    "ss <- 0\n",
    "for(j in 1:m){\n",
    "ss <- ss + sum((y[ind == j] - theta[j])^2)\n",
    "}\n",
    "betan <- beta0 + ss/2\n",
    "tau_w <- rgamma(1, alphan, betan)\n",
    "#sample a new value of mu\n",
    "taum <- m * tau_b + tau0\n",
    "mum <- (mean(theta) * m * tau_b + mu0 * tau0) / taum\n",
    "mu <- rnorm(1, mum, 1/ sqrt(taum))\n",
    "# sample a new value of tau_b\n",
    "am <- a0 + m/2\n",
    "bm <- b0 + sum((theta - mu)^2) / 2\n",
    "tau_b <- rgamma(1, am, bm)\n",
    "#store results\n",
    "theta_mat[s,] <- theta\n",
    "mat_store[s, ] <- c(mu, tau_w, tau_b)\n",
    "}\n",
    "colnames(mat_store) <- c(\"mu\", \"tau_w\", \"tau_b\")\n",
    "return(list(params = mat_store, theta = theta_mat))\n",
    "}\n"
   ]
  },
  {
   "cell_type": "code",
   "execution_count": 19,
   "metadata": {},
   "outputs": [],
   "source": [
    "wine2$region_1 <- as.factor(wine2$region_1)"
   ]
  },
  {
   "cell_type": "code",
   "execution_count": 20,
   "metadata": {},
   "outputs": [],
   "source": [
    "fit2 <- compare_m_gibbs(wine2$points, wine2$region_1)\n"
   ]
  },
  {
   "cell_type": "code",
   "execution_count": 21,
   "metadata": {},
   "outputs": [
    {
     "data": {
      "text/html": [
       "<dl class=dl-horizontal>\n",
       "\t<dt>mu</dt>\n",
       "\t\t<dd>86.5587353152656</dd>\n",
       "\t<dt>tau_w</dt>\n",
       "\t\t<dd>47.0314403107466</dd>\n",
       "\t<dt>tau_b</dt>\n",
       "\t\t<dd>0.618697633900252</dd>\n",
       "</dl>\n"
      ],
      "text/latex": [
       "\\begin{description*}\n",
       "\\item[mu] 86.5587353152656\n",
       "\\item[tau\\textbackslash{}\\_w] 47.0314403107466\n",
       "\\item[tau\\textbackslash{}\\_b] 0.618697633900252\n",
       "\\end{description*}\n"
      ],
      "text/markdown": [
       "mu\n",
       ":   86.5587353152656tau_w\n",
       ":   47.0314403107466tau_b\n",
       ":   0.618697633900252\n",
       "\n"
      ],
      "text/plain": [
       "        mu      tau_w      tau_b \n",
       "86.5587353 47.0314403  0.6186976 "
      ]
     },
     "metadata": {},
     "output_type": "display_data"
    }
   ],
   "source": [
    "apply(fit2$params, 2, mean)\n"
   ]
  },
  {
   "cell_type": "code",
   "execution_count": 22,
   "metadata": {},
   "outputs": [
    {
     "data": {
      "text/html": [
       "<dl class=dl-horizontal>\n",
       "\t<dt>mu</dt>\n",
       "\t\t<dd>0.101191338376857</dd>\n",
       "\t<dt>tau_w</dt>\n",
       "\t\t<dd>0.981550833516285</dd>\n",
       "\t<dt>tau_b</dt>\n",
       "\t\t<dd>0.0684270054395539</dd>\n",
       "</dl>\n"
      ],
      "text/latex": [
       "\\begin{description*}\n",
       "\\item[mu] 0.101191338376857\n",
       "\\item[tau\\textbackslash{}\\_w] 0.981550833516285\n",
       "\\item[tau\\textbackslash{}\\_b] 0.0684270054395539\n",
       "\\end{description*}\n"
      ],
      "text/markdown": [
       "mu\n",
       ":   0.101191338376857tau_w\n",
       ":   0.981550833516285tau_b\n",
       ":   0.0684270054395539\n",
       "\n"
      ],
      "text/plain": [
       "        mu      tau_w      tau_b \n",
       "0.10119134 0.98155083 0.06842701 "
      ]
     },
     "metadata": {},
     "output_type": "display_data"
    }
   ],
   "source": [
    "apply(fit2$params, 2, sd)\n"
   ]
  },
  {
   "cell_type": "code",
   "execution_count": 23,
   "metadata": {},
   "outputs": [
    {
     "data": {
      "text/html": [
       "0.145840024105347"
      ],
      "text/latex": [
       "0.145840024105347"
      ],
      "text/markdown": [
       "0.145840024105347"
      ],
      "text/plain": [
       "[1] 0.14584"
      ]
     },
     "metadata": {},
     "output_type": "display_data"
    }
   ],
   "source": [
    "mean(1/sqrt(fit2$params[, 2]))\n"
   ]
  },
  {
   "cell_type": "code",
   "execution_count": 24,
   "metadata": {},
   "outputs": [
    {
     "data": {
      "text/html": [
       "0.00152098171412367"
      ],
      "text/latex": [
       "0.00152098171412367"
      ],
      "text/markdown": [
       "0.00152098171412367"
      ],
      "text/plain": [
       "[1] 0.001520982"
      ]
     },
     "metadata": {},
     "output_type": "display_data"
    }
   ],
   "source": [
    "sd(1/sqrt(fit2$params[, 2]))\n"
   ]
  },
  {
   "cell_type": "code",
   "execution_count": 25,
   "metadata": {},
   "outputs": [
    {
     "data": {
      "text/html": [
       "1.27719884578541"
      ],
      "text/latex": [
       "1.27719884578541"
      ],
      "text/markdown": [
       "1.27719884578541"
      ],
      "text/plain": [
       "[1] 1.277199"
      ]
     },
     "metadata": {},
     "output_type": "display_data"
    }
   ],
   "source": [
    "mean(1/sqrt(fit2$params[, 3]))"
   ]
  },
  {
   "cell_type": "code",
   "execution_count": 26,
   "metadata": {},
   "outputs": [
    {
     "data": {
      "text/html": [
       "0.071048639727617"
      ],
      "text/latex": [
       "0.071048639727617"
      ],
      "text/markdown": [
       "0.071048639727617"
      ],
      "text/plain": [
       "[1] 0.07104864"
      ]
     },
     "metadata": {},
     "output_type": "display_data"
    }
   ],
   "source": [
    "sd(1/sqrt(fit2$params[, 3]))\n"
   ]
  },
  {
   "cell_type": "code",
   "execution_count": 27,
   "metadata": {},
   "outputs": [
    {
     "data": {
      "text/html": [
       "<dl class=dl-horizontal>\n",
       "\t<dt>1</dt>\n",
       "\t\t<dd>88.9212206419778</dd>\n",
       "\t<dt>2</dt>\n",
       "\t\t<dd>88.7751108557051</dd>\n",
       "\t<dt>28</dt>\n",
       "\t\t<dd>88.6621744323916</dd>\n",
       "\t<dt>4</dt>\n",
       "\t\t<dd>88.5682735348956</dd>\n",
       "\t<dt>76</dt>\n",
       "\t\t<dd>88.3211142072843</dd>\n",
       "\t<dt>6</dt>\n",
       "\t\t<dd>88.2845203483632</dd>\n",
       "\t<dt>64</dt>\n",
       "\t\t<dd>88.2654538319739</dd>\n",
       "\t<dt>8</dt>\n",
       "\t\t<dd>88.212980889557</dd>\n",
       "\t<dt>51</dt>\n",
       "\t\t<dd>88.1368532907961</dd>\n",
       "\t<dt>10</dt>\n",
       "\t\t<dd>87.9991017025492</dd>\n",
       "\t<dt>93</dt>\n",
       "\t\t<dd>87.9983021843527</dd>\n",
       "\t<dt>12</dt>\n",
       "\t\t<dd>87.9978093817356</dd>\n",
       "\t<dt>23</dt>\n",
       "\t\t<dd>87.9975199890235</dd>\n",
       "\t<dt>14</dt>\n",
       "\t\t<dd>87.9952163312876</dd>\n",
       "\t<dt>55</dt>\n",
       "\t\t<dd>87.8472780950277</dd>\n",
       "\t<dt>66</dt>\n",
       "\t\t<dd>87.7997758008437</dd>\n",
       "\t<dt>53</dt>\n",
       "\t\t<dd>87.7995780904294</dd>\n",
       "\t<dt>47</dt>\n",
       "\t\t<dd>87.7984145284092</dd>\n",
       "\t<dt>19</dt>\n",
       "\t\t<dd>87.7780298673631</dd>\n",
       "\t<dt>20</dt>\n",
       "\t\t<dd>87.7768117404755</dd>\n",
       "\t<dt>2</dt>\n",
       "\t\t<dd>87.7642921667375</dd>\n",
       "\t<dt>80</dt>\n",
       "\t\t<dd>87.7592967903111</dd>\n",
       "\t<dt>88</dt>\n",
       "\t\t<dd>87.7471358162854</dd>\n",
       "\t<dt>52</dt>\n",
       "\t\t<dd>87.7469552148684</dd>\n",
       "\t<dt>24</dt>\n",
       "\t\t<dd>87.7144786023935</dd>\n",
       "\t<dt>5</dt>\n",
       "\t\t<dd>87.7137889492019</dd>\n",
       "\t<dt>27</dt>\n",
       "\t\t<dd>87.7060821494719</dd>\n",
       "\t<dt>21</dt>\n",
       "\t\t<dd>87.6655439955765</dd>\n",
       "\t<dt>91</dt>\n",
       "\t\t<dd>87.6346113282036</dd>\n",
       "\t<dt>1</dt>\n",
       "\t\t<dd>87.6226815909928</dd>\n",
       "\t<dt>29</dt>\n",
       "\t\t<dd>87.5991788579038</dd>\n",
       "\t<dt>72</dt>\n",
       "\t\t<dd>87.5548451775963</dd>\n",
       "\t<dt>35</dt>\n",
       "\t\t<dd>87.4806572994196</dd>\n",
       "\t<dt>34</dt>\n",
       "\t\t<dd>87.4672450744462</dd>\n",
       "\t<dt>35</dt>\n",
       "\t\t<dd>87.4448569658714</dd>\n",
       "\t<dt>4</dt>\n",
       "\t\t<dd>87.4309180033848</dd>\n",
       "\t<dt>37</dt>\n",
       "\t\t<dd>87.3931671782984</dd>\n",
       "\t<dt>85</dt>\n",
       "\t\t<dd>87.3753181797853</dd>\n",
       "\t<dt>18</dt>\n",
       "\t\t<dd>87.3636372045325</dd>\n",
       "\t<dt>13</dt>\n",
       "\t\t<dd>87.3001971244762</dd>\n",
       "\t<dt>11</dt>\n",
       "\t\t<dd>87.2969671084423</dd>\n",
       "\t<dt>65</dt>\n",
       "\t\t<dd>87.2946741382496</dd>\n",
       "\t<dt>43</dt>\n",
       "\t\t<dd>87.2816983256588</dd>\n",
       "\t<dt>44</dt>\n",
       "\t\t<dd>87.2756790215077</dd>\n",
       "\t<dt>45</dt>\n",
       "\t\t<dd>87.2705369218032</dd>\n",
       "\t<dt>46</dt>\n",
       "\t\t<dd>87.2481760787435</dd>\n",
       "\t<dt>19</dt>\n",
       "\t\t<dd>87.2479800289213</dd>\n",
       "\t<dt>43</dt>\n",
       "\t\t<dd>87.2398747670073</dd>\n",
       "\t<dt>49</dt>\n",
       "\t\t<dd>87.2108487558181</dd>\n",
       "\t<dt>34</dt>\n",
       "\t\t<dd>87.2010517700344</dd>\n",
       "\t<dt>81</dt>\n",
       "\t\t<dd>87.1441024685679</dd>\n",
       "\t<dt>22</dt>\n",
       "\t\t<dd>87.1427606653061</dd>\n",
       "\t<dt>53</dt>\n",
       "\t\t<dd>87.1414211728992</dd>\n",
       "\t<dt>6</dt>\n",
       "\t\t<dd>87.1121791658696</dd>\n",
       "\t<dt>10</dt>\n",
       "\t\t<dd>87.1029027999953</dd>\n",
       "\t<dt>8</dt>\n",
       "\t\t<dd>87.05265805753</dd>\n",
       "\t<dt>89</dt>\n",
       "\t\t<dd>87.0426123384293</dd>\n",
       "\t<dt>58</dt>\n",
       "\t\t<dd>86.9993237010678</dd>\n",
       "\t<dt>27</dt>\n",
       "\t\t<dd>86.9984788850751</dd>\n",
       "\t<dt>31</dt>\n",
       "\t\t<dd>86.9572638614253</dd>\n",
       "\t<dt>61</dt>\n",
       "\t\t<dd>86.886868718929</dd>\n",
       "\t<dt>79</dt>\n",
       "\t\t<dd>86.8623958128716</dd>\n",
       "\t<dt>41</dt>\n",
       "\t\t<dd>86.8601435290708</dd>\n",
       "\t<dt>44</dt>\n",
       "\t\t<dd>86.8182030914363</dd>\n",
       "\t<dt>65</dt>\n",
       "\t\t<dd>86.8165838624205</dd>\n",
       "\t<dt>66</dt>\n",
       "\t\t<dd>86.8008156839115</dd>\n",
       "\t<dt>83</dt>\n",
       "\t\t<dd>86.799918626617</dd>\n",
       "\t<dt>97</dt>\n",
       "\t\t<dd>86.7507664536352</dd>\n",
       "\t<dt>3</dt>\n",
       "\t\t<dd>86.7503954436609</dd>\n",
       "\t<dt>26</dt>\n",
       "\t\t<dd>86.7477020668526</dd>\n",
       "\t<dt>60</dt>\n",
       "\t\t<dd>86.7369752195224</dd>\n",
       "\t<dt>37</dt>\n",
       "\t\t<dd>86.7140364882675</dd>\n",
       "\t<dt>73</dt>\n",
       "\t\t<dd>86.7098741991661</dd>\n",
       "\t<dt>74</dt>\n",
       "\t\t<dd>86.6678780304625</dd>\n",
       "\t<dt>75</dt>\n",
       "\t\t<dd>86.6338715882913</dd>\n",
       "\t<dt>76</dt>\n",
       "\t\t<dd>86.6092856897909</dd>\n",
       "\t<dt>15</dt>\n",
       "\t\t<dd>86.6010808983053</dd>\n",
       "\t<dt>78</dt>\n",
       "\t\t<dd>86.5840292069758</dd>\n",
       "\t<dt>14</dt>\n",
       "\t\t<dd>86.5839367232046</dd>\n",
       "\t<dt>63</dt>\n",
       "\t\t<dd>86.5612289256618</dd>\n",
       "\t<dt>90</dt>\n",
       "\t\t<dd>86.5463956600562</dd>\n",
       "\t<dt>25</dt>\n",
       "\t\t<dd>86.5302947056736</dd>\n",
       "\t<dt>9</dt>\n",
       "\t\t<dd>86.501942202928</dd>\n",
       "\t<dt>12</dt>\n",
       "\t\t<dd>86.5009994279681</dd>\n",
       "\t<dt>33</dt>\n",
       "\t\t<dd>86.5009200453151</dd>\n",
       "\t<dt>17</dt>\n",
       "\t\t<dd>86.5002546690228</dd>\n",
       "\t<dt>87</dt>\n",
       "\t\t<dd>86.4997693735876</dd>\n",
       "\t<dt>88</dt>\n",
       "\t\t<dd>86.4699939265964</dd>\n",
       "\t<dt>89</dt>\n",
       "\t\t<dd>86.4699785060304</dd>\n",
       "\t<dt>90</dt>\n",
       "\t\t<dd>86.4630329511573</dd>\n",
       "\t<dt>91</dt>\n",
       "\t\t<dd>86.4493820851497</dd>\n",
       "\t<dt>92</dt>\n",
       "\t\t<dd>86.4304128120458</dd>\n",
       "\t<dt>50</dt>\n",
       "\t\t<dd>86.4011468946971</dd>\n",
       "\t<dt>42</dt>\n",
       "\t\t<dd>86.4006661421611</dd>\n",
       "\t<dt>95</dt>\n",
       "\t\t<dd>86.383442317062</dd>\n",
       "\t<dt>95</dt>\n",
       "\t\t<dd>86.3658618767513</dd>\n",
       "\t<dt>97</dt>\n",
       "\t\t<dd>86.3543482159036</dd>\n",
       "\t<dt>48</dt>\n",
       "\t\t<dd>86.3485599636212</dd>\n",
       "\t<dt>45</dt>\n",
       "\t\t<dd>86.3341072794693</dd>\n",
       "\t<dt>100</dt>\n",
       "\t\t<dd>86.3092484401678</dd>\n",
       "\t<dt>40</dt>\n",
       "\t\t<dd>86.2776686170335</dd>\n",
       "\t<dt>36</dt>\n",
       "\t\t<dd>86.2736286527388</dd>\n",
       "\t<dt>103</dt>\n",
       "\t\t<dd>86.2512385144184</dd>\n",
       "\t<dt>59</dt>\n",
       "\t\t<dd>86.2506504297379</dd>\n",
       "\t<dt>105</dt>\n",
       "\t\t<dd>86.2320673033503</dd>\n",
       "\t<dt>82</dt>\n",
       "\t\t<dd>86.2232483168659</dd>\n",
       "\t<dt>20</dt>\n",
       "\t\t<dd>86.1746039844598</dd>\n",
       "\t<dt>108</dt>\n",
       "\t\t<dd>86.1494795232234</dd>\n",
       "\t<dt>109</dt>\n",
       "\t\t<dd>86.1267786534515</dd>\n",
       "\t<dt>110</dt>\n",
       "\t\t<dd>86.1252156748279</dd>\n",
       "\t<dt>74</dt>\n",
       "\t\t<dd>86.106158915714</dd>\n",
       "\t<dt>112</dt>\n",
       "\t\t<dd>86.0030035750028</dd>\n",
       "\t<dt>54</dt>\n",
       "\t\t<dd>86.0027717947464</dd>\n",
       "\t<dt>56</dt>\n",
       "\t\t<dd>86.0018392589725</dd>\n",
       "\t<dt>115</dt>\n",
       "\t\t<dd>86.0011556447485</dd>\n",
       "\t<dt>116</dt>\n",
       "\t\t<dd>86.0008402124877</dd>\n",
       "\t<dt>117</dt>\n",
       "\t\t<dd>85.9241126338532</dd>\n",
       "\t<dt>118</dt>\n",
       "\t\t<dd>85.9176347045855</dd>\n",
       "\t<dt>84</dt>\n",
       "\t\t<dd>85.9024380712701</dd>\n",
       "\t<dt>120</dt>\n",
       "\t\t<dd>85.8915665843988</dd>\n",
       "\t<dt>121</dt>\n",
       "\t\t<dd>85.8908049706551</dd>\n",
       "\t<dt>122</dt>\n",
       "\t\t<dd>85.8600678305372</dd>\n",
       "\t<dt>61</dt>\n",
       "\t\t<dd>85.8531501233215</dd>\n",
       "\t<dt>30</dt>\n",
       "\t\t<dd>85.8486761729014</dd>\n",
       "\t<dt>86</dt>\n",
       "\t\t<dd>85.81550995619</dd>\n",
       "\t<dt>58</dt>\n",
       "\t\t<dd>85.8044877071493</dd>\n",
       "\t<dt>127</dt>\n",
       "\t\t<dd>85.8035857549674</dd>\n",
       "\t<dt>32</dt>\n",
       "\t\t<dd>85.8028305570226</dd>\n",
       "\t<dt>129</dt>\n",
       "\t\t<dd>85.7800123779403</dd>\n",
       "\t<dt>73</dt>\n",
       "\t\t<dd>85.763135919242</dd>\n",
       "\t<dt>94</dt>\n",
       "\t\t<dd>85.7536670313346</dd>\n",
       "\t<dt>69</dt>\n",
       "\t\t<dd>85.7180996464623</dd>\n",
       "\t<dt>57</dt>\n",
       "\t\t<dd>85.6701703551827</dd>\n",
       "\t<dt>134</dt>\n",
       "\t\t<dd>85.6482386983762</dd>\n",
       "\t<dt>16</dt>\n",
       "\t\t<dd>85.6277723293527</dd>\n",
       "\t<dt>67</dt>\n",
       "\t\t<dd>85.6043062505672</dd>\n",
       "\t<dt>137</dt>\n",
       "\t\t<dd>85.5518786062811</dd>\n",
       "\t<dt>138</dt>\n",
       "\t\t<dd>85.5478006830334</dd>\n",
       "\t<dt>98</dt>\n",
       "\t\t<dd>85.5176479759193</dd>\n",
       "\t<dt>140</dt>\n",
       "\t\t<dd>85.5051512154402</dd>\n",
       "\t<dt>92</dt>\n",
       "\t\t<dd>85.5038414148793</dd>\n",
       "\t<dt>96</dt>\n",
       "\t\t<dd>85.5020060001845</dd>\n",
       "\t<dt>78</dt>\n",
       "\t\t<dd>85.5015798993845</dd>\n",
       "\t<dt>75</dt>\n",
       "\t\t<dd>85.4628734346421</dd>\n",
       "\t<dt>145</dt>\n",
       "\t\t<dd>85.4493793346124</dd>\n",
       "\t<dt>146</dt>\n",
       "\t\t<dd>85.365484961284</dd>\n",
       "\t<dt>46</dt>\n",
       "\t\t<dd>85.3493469512469</dd>\n",
       "\t<dt>77</dt>\n",
       "\t\t<dd>85.2568865620516</dd>\n",
       "\t<dt>71</dt>\n",
       "\t\t<dd>85.2554092580052</dd>\n",
       "\t<dt>150</dt>\n",
       "\t\t<dd>85.1712631860307</dd>\n",
       "\t<dt>62</dt>\n",
       "\t\t<dd>85.0097210661175</dd>\n",
       "\t<dt>38</dt>\n",
       "\t\t<dd>85.0031585662104</dd>\n",
       "\t<dt>153</dt>\n",
       "\t\t<dd>84.9282547665457</dd>\n",
       "\t<dt>154</dt>\n",
       "\t\t<dd>84.9118100899279</dd>\n",
       "\t<dt>70</dt>\n",
       "\t\t<dd>84.8059804925348</dd>\n",
       "\t<dt>100</dt>\n",
       "\t\t<dd>84.7565770675696</dd>\n",
       "\t<dt>7</dt>\n",
       "\t\t<dd>84.6706871295822</dd>\n",
       "\t<dt>158</dt>\n",
       "\t\t<dd>84.6401183067342</dd>\n",
       "\t<dt>99</dt>\n",
       "\t\t<dd>84.5946795841972</dd>\n",
       "\t<dt>68</dt>\n",
       "\t\t<dd>84.53183482122</dd>\n",
       "\t<dt>161</dt>\n",
       "\t\t<dd>84.5070990597494</dd>\n",
       "\t<dt>39</dt>\n",
       "\t\t<dd>84.2585152792483</dd>\n",
       "\t<dt>49</dt>\n",
       "\t\t<dd>84.0069585276163</dd>\n",
       "</dl>\n"
      ],
      "text/latex": [
       "\\begin{description*}\n",
       "\\item[1] 88.9212206419778\n",
       "\\item[2] 88.7751108557051\n",
       "\\item[28] 88.6621744323916\n",
       "\\item[4] 88.5682735348956\n",
       "\\item[76] 88.3211142072843\n",
       "\\item[6] 88.2845203483632\n",
       "\\item[64] 88.2654538319739\n",
       "\\item[8] 88.212980889557\n",
       "\\item[51] 88.1368532907961\n",
       "\\item[10] 87.9991017025492\n",
       "\\item[93] 87.9983021843527\n",
       "\\item[12] 87.9978093817356\n",
       "\\item[23] 87.9975199890235\n",
       "\\item[14] 87.9952163312876\n",
       "\\item[55] 87.8472780950277\n",
       "\\item[66] 87.7997758008437\n",
       "\\item[53] 87.7995780904294\n",
       "\\item[47] 87.7984145284092\n",
       "\\item[19] 87.7780298673631\n",
       "\\item[20] 87.7768117404755\n",
       "\\item[2] 87.7642921667375\n",
       "\\item[80] 87.7592967903111\n",
       "\\item[88] 87.7471358162854\n",
       "\\item[52] 87.7469552148684\n",
       "\\item[24] 87.7144786023935\n",
       "\\item[5] 87.7137889492019\n",
       "\\item[27] 87.7060821494719\n",
       "\\item[21] 87.6655439955765\n",
       "\\item[91] 87.6346113282036\n",
       "\\item[1] 87.6226815909928\n",
       "\\item[29] 87.5991788579038\n",
       "\\item[72] 87.5548451775963\n",
       "\\item[35] 87.4806572994196\n",
       "\\item[34] 87.4672450744462\n",
       "\\item[35] 87.4448569658714\n",
       "\\item[4] 87.4309180033848\n",
       "\\item[37] 87.3931671782984\n",
       "\\item[85] 87.3753181797853\n",
       "\\item[18] 87.3636372045325\n",
       "\\item[13] 87.3001971244762\n",
       "\\item[11] 87.2969671084423\n",
       "\\item[65] 87.2946741382496\n",
       "\\item[43] 87.2816983256588\n",
       "\\item[44] 87.2756790215077\n",
       "\\item[45] 87.2705369218032\n",
       "\\item[46] 87.2481760787435\n",
       "\\item[19] 87.2479800289213\n",
       "\\item[43] 87.2398747670073\n",
       "\\item[49] 87.2108487558181\n",
       "\\item[34] 87.2010517700344\n",
       "\\item[81] 87.1441024685679\n",
       "\\item[22] 87.1427606653061\n",
       "\\item[53] 87.1414211728992\n",
       "\\item[6] 87.1121791658696\n",
       "\\item[10] 87.1029027999953\n",
       "\\item[8] 87.05265805753\n",
       "\\item[89] 87.0426123384293\n",
       "\\item[58] 86.9993237010678\n",
       "\\item[27] 86.9984788850751\n",
       "\\item[31] 86.9572638614253\n",
       "\\item[61] 86.886868718929\n",
       "\\item[79] 86.8623958128716\n",
       "\\item[41] 86.8601435290708\n",
       "\\item[44] 86.8182030914363\n",
       "\\item[65] 86.8165838624205\n",
       "\\item[66] 86.8008156839115\n",
       "\\item[83] 86.799918626617\n",
       "\\item[97] 86.7507664536352\n",
       "\\item[3] 86.7503954436609\n",
       "\\item[26] 86.7477020668526\n",
       "\\item[60] 86.7369752195224\n",
       "\\item[37] 86.7140364882675\n",
       "\\item[73] 86.7098741991661\n",
       "\\item[74] 86.6678780304625\n",
       "\\item[75] 86.6338715882913\n",
       "\\item[76] 86.6092856897909\n",
       "\\item[15] 86.6010808983053\n",
       "\\item[78] 86.5840292069758\n",
       "\\item[14] 86.5839367232046\n",
       "\\item[63] 86.5612289256618\n",
       "\\item[90] 86.5463956600562\n",
       "\\item[25] 86.5302947056736\n",
       "\\item[9] 86.501942202928\n",
       "\\item[12] 86.5009994279681\n",
       "\\item[33] 86.5009200453151\n",
       "\\item[17] 86.5002546690228\n",
       "\\item[87] 86.4997693735876\n",
       "\\item[88] 86.4699939265964\n",
       "\\item[89] 86.4699785060304\n",
       "\\item[90] 86.4630329511573\n",
       "\\item[91] 86.4493820851497\n",
       "\\item[92] 86.4304128120458\n",
       "\\item[50] 86.4011468946971\n",
       "\\item[42] 86.4006661421611\n",
       "\\item[95] 86.383442317062\n",
       "\\item[95] 86.3658618767513\n",
       "\\item[97] 86.3543482159036\n",
       "\\item[48] 86.3485599636212\n",
       "\\item[45] 86.3341072794693\n",
       "\\item[100] 86.3092484401678\n",
       "\\item[40] 86.2776686170335\n",
       "\\item[36] 86.2736286527388\n",
       "\\item[103] 86.2512385144184\n",
       "\\item[59] 86.2506504297379\n",
       "\\item[105] 86.2320673033503\n",
       "\\item[82] 86.2232483168659\n",
       "\\item[20] 86.1746039844598\n",
       "\\item[108] 86.1494795232234\n",
       "\\item[109] 86.1267786534515\n",
       "\\item[110] 86.1252156748279\n",
       "\\item[74] 86.106158915714\n",
       "\\item[112] 86.0030035750028\n",
       "\\item[54] 86.0027717947464\n",
       "\\item[56] 86.0018392589725\n",
       "\\item[115] 86.0011556447485\n",
       "\\item[116] 86.0008402124877\n",
       "\\item[117] 85.9241126338532\n",
       "\\item[118] 85.9176347045855\n",
       "\\item[84] 85.9024380712701\n",
       "\\item[120] 85.8915665843988\n",
       "\\item[121] 85.8908049706551\n",
       "\\item[122] 85.8600678305372\n",
       "\\item[61] 85.8531501233215\n",
       "\\item[30] 85.8486761729014\n",
       "\\item[86] 85.81550995619\n",
       "\\item[58] 85.8044877071493\n",
       "\\item[127] 85.8035857549674\n",
       "\\item[32] 85.8028305570226\n",
       "\\item[129] 85.7800123779403\n",
       "\\item[73] 85.763135919242\n",
       "\\item[94] 85.7536670313346\n",
       "\\item[69] 85.7180996464623\n",
       "\\item[57] 85.6701703551827\n",
       "\\item[134] 85.6482386983762\n",
       "\\item[16] 85.6277723293527\n",
       "\\item[67] 85.6043062505672\n",
       "\\item[137] 85.5518786062811\n",
       "\\item[138] 85.5478006830334\n",
       "\\item[98] 85.5176479759193\n",
       "\\item[140] 85.5051512154402\n",
       "\\item[92] 85.5038414148793\n",
       "\\item[96] 85.5020060001845\n",
       "\\item[78] 85.5015798993845\n",
       "\\item[75] 85.4628734346421\n",
       "\\item[145] 85.4493793346124\n",
       "\\item[146] 85.365484961284\n",
       "\\item[46] 85.3493469512469\n",
       "\\item[77] 85.2568865620516\n",
       "\\item[71] 85.2554092580052\n",
       "\\item[150] 85.1712631860307\n",
       "\\item[62] 85.0097210661175\n",
       "\\item[38] 85.0031585662104\n",
       "\\item[153] 84.9282547665457\n",
       "\\item[154] 84.9118100899279\n",
       "\\item[70] 84.8059804925348\n",
       "\\item[100] 84.7565770675696\n",
       "\\item[7] 84.6706871295822\n",
       "\\item[158] 84.6401183067342\n",
       "\\item[99] 84.5946795841972\n",
       "\\item[68] 84.53183482122\n",
       "\\item[161] 84.5070990597494\n",
       "\\item[39] 84.2585152792483\n",
       "\\item[49] 84.0069585276163\n",
       "\\end{description*}\n"
      ],
      "text/markdown": [
       "1\n",
       ":   88.92122064197782\n",
       ":   88.775110855705128\n",
       ":   88.66217443239164\n",
       ":   88.568273534895676\n",
       ":   88.32111420728436\n",
       ":   88.284520348363264\n",
       ":   88.26545383197398\n",
       ":   88.21298088955751\n",
       ":   88.136853290796110\n",
       ":   87.999101702549293\n",
       ":   87.998302184352712\n",
       ":   87.997809381735623\n",
       ":   87.997519989023514\n",
       ":   87.995216331287655\n",
       ":   87.847278095027766\n",
       ":   87.799775800843753\n",
       ":   87.799578090429447\n",
       ":   87.798414528409219\n",
       ":   87.778029867363120\n",
       ":   87.77681174047552\n",
       ":   87.764292166737580\n",
       ":   87.759296790311188\n",
       ":   87.747135816285452\n",
       ":   87.746955214868424\n",
       ":   87.71447860239355\n",
       ":   87.713788949201927\n",
       ":   87.706082149471921\n",
       ":   87.665543995576591\n",
       ":   87.63461132820361\n",
       ":   87.622681590992829\n",
       ":   87.599178857903872\n",
       ":   87.554845177596335\n",
       ":   87.480657299419634\n",
       ":   87.467245074446235\n",
       ":   87.44485696587144\n",
       ":   87.430918003384837\n",
       ":   87.393167178298485\n",
       ":   87.375318179785318\n",
       ":   87.363637204532513\n",
       ":   87.300197124476211\n",
       ":   87.296967108442365\n",
       ":   87.294674138249643\n",
       ":   87.281698325658844\n",
       ":   87.275679021507745\n",
       ":   87.270536921803246\n",
       ":   87.248176078743519\n",
       ":   87.247980028921343\n",
       ":   87.239874767007349\n",
       ":   87.210848755818134\n",
       ":   87.201051770034481\n",
       ":   87.144102468567922\n",
       ":   87.142760665306153\n",
       ":   87.14142117289926\n",
       ":   87.112179165869610\n",
       ":   87.10290279999538\n",
       ":   87.0526580575389\n",
       ":   87.042612338429358\n",
       ":   86.999323701067827\n",
       ":   86.998478885075131\n",
       ":   86.957263861425361\n",
       ":   86.88686871892979\n",
       ":   86.862395812871641\n",
       ":   86.860143529070844\n",
       ":   86.818203091436365\n",
       ":   86.816583862420566\n",
       ":   86.800815683911583\n",
       ":   86.79991862661797\n",
       ":   86.75076645363523\n",
       ":   86.750395443660926\n",
       ":   86.747702066852660\n",
       ":   86.736975219522437\n",
       ":   86.714036488267573\n",
       ":   86.709874199166174\n",
       ":   86.667878030462575\n",
       ":   86.633871588291376\n",
       ":   86.609285689790915\n",
       ":   86.601080898305378\n",
       ":   86.584029206975814\n",
       ":   86.583936723204663\n",
       ":   86.561228925661890\n",
       ":   86.546395660056225\n",
       ":   86.53029470567369\n",
       ":   86.50194220292812\n",
       ":   86.500999427968133\n",
       ":   86.500920045315117\n",
       ":   86.500254669022887\n",
       ":   86.499769373587688\n",
       ":   86.469993926596489\n",
       ":   86.469978506030490\n",
       ":   86.463032951157391\n",
       ":   86.449382085149792\n",
       ":   86.430412812045850\n",
       ":   86.401146894697142\n",
       ":   86.400666142161195\n",
       ":   86.38344231706295\n",
       ":   86.365861876751397\n",
       ":   86.354348215903648\n",
       ":   86.348559963621245\n",
       ":   86.3341072794693100\n",
       ":   86.309248440167840\n",
       ":   86.277668617033536\n",
       ":   86.2736286527388103\n",
       ":   86.251238514418459\n",
       ":   86.2506504297379105\n",
       ":   86.232067303350382\n",
       ":   86.223248316865920\n",
       ":   86.1746039844598108\n",
       ":   86.1494795232234109\n",
       ":   86.1267786534515110\n",
       ":   86.125215674827974\n",
       ":   86.106158915714112\n",
       ":   86.003003575002854\n",
       ":   86.002771794746456\n",
       ":   86.0018392589725115\n",
       ":   86.0011556447485116\n",
       ":   86.0008402124877117\n",
       ":   85.9241126338532118\n",
       ":   85.917634704585584\n",
       ":   85.9024380712701120\n",
       ":   85.8915665843988121\n",
       ":   85.8908049706551122\n",
       ":   85.860067830537261\n",
       ":   85.853150123321530\n",
       ":   85.848676172901486\n",
       ":   85.8155099561958\n",
       ":   85.8044877071493127\n",
       ":   85.803585754967432\n",
       ":   85.8028305570226129\n",
       ":   85.780012377940373\n",
       ":   85.76313591924294\n",
       ":   85.753667031334669\n",
       ":   85.718099646462357\n",
       ":   85.6701703551827134\n",
       ":   85.648238698376216\n",
       ":   85.627772329352767\n",
       ":   85.6043062505672137\n",
       ":   85.5518786062811138\n",
       ":   85.547800683033498\n",
       ":   85.5176479759193140\n",
       ":   85.505151215440292\n",
       ":   85.503841414879396\n",
       ":   85.502006000184578\n",
       ":   85.501579899384575\n",
       ":   85.4628734346421145\n",
       ":   85.4493793346124146\n",
       ":   85.36548496128446\n",
       ":   85.349346951246977\n",
       ":   85.256886562051671\n",
       ":   85.2554092580052150\n",
       ":   85.171263186030762\n",
       ":   85.009721066117538\n",
       ":   85.0031585662104153\n",
       ":   84.9282547665457154\n",
       ":   84.911810089927970\n",
       ":   84.8059804925348100\n",
       ":   84.75657706756967\n",
       ":   84.6706871295822158\n",
       ":   84.640118306734299\n",
       ":   84.594679584197268\n",
       ":   84.53183482122161\n",
       ":   84.507099059749439\n",
       ":   84.258515279248349\n",
       ":   84.0069585276163\n",
       "\n"
      ],
      "text/plain": [
       "    <NA>     <NA>       28     <NA>       76     <NA>       64     <NA> \n",
       "88.92122 88.77511 88.66217 88.56827 88.32111 88.28452 88.26545 88.21298 \n",
       "      51     <NA>       93     <NA>       23     <NA>       55       66 \n",
       "88.13685 87.99910 87.99830 87.99781 87.99752 87.99522 87.84728 87.79978 \n",
       "      53       47     <NA>     <NA>        2       80       88       52 \n",
       "87.79958 87.79841 87.77803 87.77681 87.76429 87.75930 87.74714 87.74696 \n",
       "      24        5     <NA>       21       91        1       29       72 \n",
       "87.71448 87.71379 87.70608 87.66554 87.63461 87.62268 87.59918 87.55485 \n",
       "      35     <NA>     <NA>        4     <NA>       85       18       13 \n",
       "87.48066 87.46725 87.44486 87.43092 87.39317 87.37532 87.36364 87.30020 \n",
       "      11       65     <NA>     <NA>     <NA>     <NA>       19       43 \n",
       "87.29697 87.29467 87.28170 87.27568 87.27054 87.24818 87.24798 87.23987 \n",
       "    <NA>       34       81       22     <NA>        6       10        8 \n",
       "87.21085 87.20105 87.14410 87.14276 87.14142 87.11218 87.10290 87.05266 \n",
       "      89     <NA>       27       31     <NA>       79       41       44 \n",
       "87.04261 86.99932 86.99848 86.95726 86.88687 86.86240 86.86014 86.81820 \n",
       "    <NA>     <NA>       83       97        3       26       60       37 \n",
       "86.81658 86.80082 86.79992 86.75077 86.75040 86.74770 86.73698 86.71404 \n",
       "    <NA>     <NA>     <NA>     <NA>       15     <NA>       14       63 \n",
       "86.70987 86.66788 86.63387 86.60929 86.60108 86.58403 86.58394 86.56123 \n",
       "      90       25        9       12       33       17       87     <NA> \n",
       "86.54640 86.53029 86.50194 86.50100 86.50092 86.50025 86.49977 86.46999 \n",
       "    <NA>     <NA>     <NA>     <NA>       50       42     <NA>       95 \n",
       "86.46998 86.46303 86.44938 86.43041 86.40115 86.40067 86.38344 86.36586 \n",
       "    <NA>       48       45     <NA>       40       36     <NA>       59 \n",
       "86.35435 86.34856 86.33411 86.30925 86.27767 86.27363 86.25124 86.25065 \n",
       "    <NA>       82       20     <NA>     <NA>     <NA>       74     <NA> \n",
       "86.23207 86.22325 86.17460 86.14948 86.12678 86.12522 86.10616 86.00300 \n",
       "      54       56     <NA>     <NA>     <NA>     <NA>       84     <NA> \n",
       "86.00277 86.00184 86.00116 86.00084 85.92411 85.91763 85.90244 85.89157 \n",
       "    <NA>     <NA>       61       30       86       58     <NA>       32 \n",
       "85.89080 85.86007 85.85315 85.84868 85.81551 85.80449 85.80359 85.80283 \n",
       "    <NA>       73       94       69       57     <NA>       16       67 \n",
       "85.78001 85.76314 85.75367 85.71810 85.67017 85.64824 85.62777 85.60431 \n",
       "    <NA>     <NA>       98     <NA>       92       96       78       75 \n",
       "85.55188 85.54780 85.51765 85.50515 85.50384 85.50201 85.50158 85.46287 \n",
       "    <NA>     <NA>       46       77       71     <NA>       62       38 \n",
       "85.44938 85.36548 85.34935 85.25689 85.25541 85.17126 85.00972 85.00316 \n",
       "    <NA>     <NA>       70      100        7     <NA>       99       68 \n",
       "84.92825 84.91181 84.80598 84.75658 84.67069 84.64012 84.59468 84.53183 \n",
       "    <NA>       39       49 \n",
       "84.50710 84.25852 84.00696 "
      ]
     },
     "metadata": {},
     "output_type": "display_data"
    }
   ],
   "source": [
    "theta_hat <- apply(fit2$theta, 2, mean) ## get basic posterior summary\n",
    "names(theta_hat) <- 1:100 ## keep track of different schools\n",
    "sort(theta_hat, decreasing = TRUE) ## which schools did best and worst?\n"
   ]
  },
  {
   "cell_type": "code",
   "execution_count": 28,
   "metadata": {},
   "outputs": [
    {
     "ename": "ERROR",
     "evalue": "Error in data.frame(lower = theta_ci[1, ], upper = theta_ci[2, ], mean = theta_hat, : arguments imply differing number of rows: 163, 100\n",
     "output_type": "error",
     "traceback": [
      "Error in data.frame(lower = theta_ci[1, ], upper = theta_ci[2, ], mean = theta_hat, : arguments imply differing number of rows: 163, 100\nTraceback:\n",
      "1. data.frame(lower = theta_ci[1, ], upper = theta_ci[2, ], mean = theta_hat, \n .     school = factor(1:100))",
      "2. stop(gettextf(\"arguments imply differing number of rows: %s\", \n .     paste(unique(nrows), collapse = \", \")), domain = NA)"
     ]
    }
   ],
   "source": [
    "theta_ci <- apply(fit2$theta, 2, quantile, prob = c(0.025, .975)) ## upper/lower bounds for thetas\n",
    "df_error <- data.frame(lower = theta_ci[1, ], upper = theta_ci[2, ], mean = theta_hat,\n",
    "school = factor(1:100))\n",
    "ggplot(df_error, aes(x = reorder(school, mean), mean)) + geom_errorbar(aes(ymin = lower, ymax = upper))"
   ]
  },
  {
   "cell_type": "code",
   "execution_count": null,
   "metadata": {},
   "outputs": [],
   "source": [
    "## reformat samples for ggplot\n",
    "theta_df <- data.frame(samples = as.numeric(fit2$theta),\n",
    "school = rep(1:ncol(fit2$theta), each = nrow(fit2$theta)))\n",
    "ggplot(theta_df) + geom_boxplot(aes(x = reorder(school, samples, median), samples,\n",
    "fill = reorder(school, samples, median)), show.legend=FALSE)"
   ]
  },
  {
   "cell_type": "code",
   "execution_count": null,
   "metadata": {},
   "outputs": [],
   "source": [
    "ggplot(data.frame(size = tapply(df2$mathscore, df2$school, length), theta_hat = theta_hat),\n",
    "aes(size, theta_hat)) + geom_point()\n"
   ]
  },
  {
   "cell_type": "code",
   "execution_count": null,
   "metadata": {},
   "outputs": [],
   "source": [
    "ggplot(data.frame(ybar = tapply(df2$mathscore, df2$school, mean), theta_hat = theta_hat),\n",
    "aes(ybar, theta_hat)) + geom_point()\n"
   ]
  },
  {
   "cell_type": "code",
   "execution_count": 7,
   "metadata": {},
   "outputs": [],
   "source": [
    "wine2 <- wineFullData[ which((wineFullData$price < 20) & (wineFullData$country == \"Italy\"))  , ]"
   ]
  },
  {
   "cell_type": "code",
   "execution_count": 8,
   "metadata": {},
   "outputs": [
    {
     "data": {
      "text/html": [
       "<ol class=list-inline>\n",
       "\t<li>4895</li>\n",
       "\t<li>14</li>\n",
       "</ol>\n"
      ],
      "text/latex": [
       "\\begin{enumerate*}\n",
       "\\item 4895\n",
       "\\item 14\n",
       "\\end{enumerate*}\n"
      ],
      "text/markdown": [
       "1. 4895\n",
       "2. 14\n",
       "\n",
       "\n"
      ],
      "text/plain": [
       "[1] 4895   14"
      ]
     },
     "metadata": {},
     "output_type": "display_data"
    }
   ],
   "source": [
    "dim(wine2)"
   ]
  },
  {
   "cell_type": "code",
   "execution_count": 9,
   "metadata": {},
   "outputs": [],
   "source": [
    "wine2 <- wine2 %>%\n",
    "  group_by(region_1) %>%\n",
    "  filter(n() >= 4)"
   ]
  },
  {
   "cell_type": "code",
   "execution_count": 10,
   "metadata": {
    "scrolled": false
   },
   "outputs": [
    {
     "data": {
      "text/html": [
       "<ol class=list-inline>\n",
       "\t<li>4702</li>\n",
       "\t<li>14</li>\n",
       "</ol>\n"
      ],
      "text/latex": [
       "\\begin{enumerate*}\n",
       "\\item 4702\n",
       "\\item 14\n",
       "\\end{enumerate*}\n"
      ],
      "text/markdown": [
       "1. 4702\n",
       "2. 14\n",
       "\n",
       "\n"
      ],
      "text/plain": [
       "[1] 4702   14"
      ]
     },
     "metadata": {},
     "output_type": "display_data"
    }
   ],
   "source": [
    "dim(wine2)"
   ]
  },
  {
   "cell_type": "code",
   "execution_count": 11,
   "metadata": {},
   "outputs": [],
   "source": [
    "wine2 <- droplevels(wine2)"
   ]
  },
  {
   "cell_type": "code",
   "execution_count": 12,
   "metadata": {},
   "outputs": [],
   "source": [
    "wine2$region_1 <- as.factor(wine2$region_1)\n",
    "\n",
    "wine2$points <- wine2$points + rnorm(nrow(wine2), 1, 1)/1000"
   ]
  },
  {
   "cell_type": "code",
   "execution_count": 13,
   "metadata": {},
   "outputs": [
    {
     "data": {
      "text/html": [
       "163"
      ],
      "text/latex": [
       "163"
      ],
      "text/markdown": [
       "163"
      ],
      "text/plain": [
       "[1] 163"
      ]
     },
     "metadata": {},
     "output_type": "display_data"
    }
   ],
   "source": [
    "nlevels(wine2$region_1)"
   ]
  },
  {
   "cell_type": "code",
   "execution_count": 14,
   "metadata": {},
   "outputs": [
    {
     "data": {
      "image/png": "[encoded data removed]",
      "text/plain": [
       "plot without title"
      ]
     },
     "metadata": {
      "image/png": {
       "height": 420,
       "width": 420
      },
      "text/plain": {
       "height": 420,
       "width": 420
      }
     },
     "output_type": "display_data"
    }
   ],
   "source": [
    "ggplot(wine2) + geom_boxplot(aes(x = reorder(region_1, points, median), points,\n",
    "fill = reorder(region_1, points, median)), show.legend=FALSE)"
   ]
  },
  {
   "cell_type": "code",
   "execution_count": 15,
   "metadata": {},
   "outputs": [
    {
     "data": {
      "image/png": "[encoded data removed]",
      "text/plain": [
       "plot without title"
      ]
     },
     "metadata": {
      "image/png": {
       "height": 420,
       "width": 420
      },
      "text/plain": {
       "height": 420,
       "width": 420
      }
     },
     "output_type": "display_data"
    }
   ],
   "source": [
    "ggplot(wine2, aes(x = reorder(region_1, region_1, length))) + stat_count()\n"
   ]
  },
  {
   "cell_type": "code",
   "execution_count": 16,
   "metadata": {},
   "outputs": [
    {
     "name": "stderr",
     "output_type": "stream",
     "text": [
      "`stat_bin()` using `bins = 30`. Pick better value with `binwidth`.\n",
      "\n"
     ]
    },
    {
     "data": {
      "image/png": "[encoded data removed]",
      "text/plain": [
       "plot without title"
      ]
     },
     "metadata": {
      "image/png": {
       "height": 420,
       "width": 420
      },
      "text/plain": {
       "height": 420,
       "width": 420
      }
     },
     "output_type": "display_data"
    }
   ],
   "source": [
    "ggplot(wine2, aes(points)) + stat_bin()"
   ]
  },
  {
   "cell_type": "code",
   "execution_count": 17,
   "metadata": {},
   "outputs": [
    {
     "data": {
      "image/png": "[encoded data removed]",
      "text/plain": [
       "plot without title"
      ]
     },
     "metadata": {
      "image/png": {
       "height": 420,
       "width": 420
      },
      "text/plain": {
       "height": 420,
       "width": 420
      }
     },
     "output_type": "display_data"
    }
   ],
   "source": [
    "ggplot(data.frame(size = tapply(wine2$points, wine2$region_1, length),\n",
    "mean_score = tapply(wine2$points, wine2$region_1, mean)), aes(size, mean_score)) +\n",
    "geom_point() + xlab(\"Region 1 sample size\") + ylab(\"Mean Score\") +\n",
    "ggtitle(\"Effect size versus sample size\")\n"
   ]
  },
  {
   "cell_type": "code",
   "execution_count": 18,
   "metadata": {},
   "outputs": [],
   "source": [
    "compare_m_gibbs <- function(y, ind, mu0 = 50, tau0 = 1/400,\n",
    "a0 = 1, b0 = 50, alpha0 =1, beta0 = 50, maxiter = 5000)\n",
    "{\n",
    "### weakly informative priors\n",
    "a0 <- 1/2 ; b0 <- 50 ## tau_w hyperparameters\n",
    "alpha0 <-1/2 ; beta0 <- 50 ## tau_b hyperparameters\n",
    "mu0<-50 ; tau0 <- 1/25\n",
    "###\n",
    "### starting values\n",
    "m <- nlevels(ind)\n",
    "ybar <- theta <- tapply(y, ind, mean)\n",
    "tau_w <- mean(1 / tapply(y, ind, var)) ##within group precision\n",
    "mu <- mean(theta)\n",
    "\n",
    "    tau_b <-var(theta) ##between group precision\n",
    "n_m <- tapply(y, ind, length)\n",
    "alphan <- alpha0 + sum(n_m)/2\n",
    "###\n",
    "### setup MCMC\n",
    "theta_mat <- matrix(0, nrow=maxiter, ncol=m)\n",
    "mat_store <- matrix(0, nrow=maxiter, ncol=3)\n",
    "###\n",
    "### MCMC algorithm\n",
    "for(s in 1:maxiter)\n",
    "{\n",
    "# sample new values of the thetas\n",
    "for(j in 1:m)\n",
    "{\n",
    "taun <- n_m[j] * tau_w + tau_b\n",
    "thetan <- (ybar[j] * n_m[j] * tau_w + mu * tau_b) / taun\n",
    "theta[j]<-rnorm(1, thetan, 1/sqrt(taun))\n",
    "}\n",
    "#sample new value of tau_w\n",
    "ss <- 0\n",
    "for(j in 1:m){\n",
    "ss <- ss + sum((y[ind == j] - theta[j])^2)\n",
    "}\n",
    "betan <- beta0 + ss/2\n",
    "tau_w <- rgamma(1, alphan, betan)\n",
    "#sample a new value of mu\n",
    "taum <- m * tau_b + tau0\n",
    "mum <- (mean(theta) * m * tau_b + mu0 * tau0) / taum\n",
    "mu <- rnorm(1, mum, 1/ sqrt(taum))\n",
    "# sample a new value of tau_b\n",
    "am <- a0 + m/2\n",
    "bm <- b0 + sum((theta - mu)^2) / 2\n",
    "tau_b <- rgamma(1, am, bm)\n",
    "#store results\n",
    "theta_mat[s,] <- theta\n",
    "mat_store[s, ] <- c(mu, tau_w, tau_b)\n",
    "}\n",
    "colnames(mat_store) <- c(\"mu\", \"tau_w\", \"tau_b\")\n",
    "return(list(params = mat_store, theta = theta_mat))\n",
    "}\n"
   ]
  },
  {
   "cell_type": "code",
   "execution_count": 19,
   "metadata": {},
   "outputs": [],
   "source": [
    "wine2$region_1 <- as.factor(wine2$region_1)"
   ]
  },
  {
   "cell_type": "code",
   "execution_count": 20,
   "metadata": {},
   "outputs": [],
   "source": [
    "fit2 <- compare_m_gibbs(wine2$points, wine2$region_1)\n"
   ]
  },
  {
   "cell_type": "code",
   "execution_count": 21,
   "metadata": {},
   "outputs": [
    {
     "data": {
      "text/html": [
       "<dl class=dl-horizontal>\n",
       "\t<dt>mu</dt>\n",
       "\t\t<dd>86.5587353152656</dd>\n",
       "\t<dt>tau_w</dt>\n",
       "\t\t<dd>47.0314403107466</dd>\n",
       "\t<dt>tau_b</dt>\n",
       "\t\t<dd>0.618697633900252</dd>\n",
       "</dl>\n"
      ],
      "text/latex": [
       "\\begin{description*}\n",
       "\\item[mu] 86.5587353152656\n",
       "\\item[tau\\textbackslash{}\\_w] 47.0314403107466\n",
       "\\item[tau\\textbackslash{}\\_b] 0.618697633900252\n",
       "\\end{description*}\n"
      ],
      "text/markdown": [
       "mu\n",
       ":   86.5587353152656tau_w\n",
       ":   47.0314403107466tau_b\n",
       ":   0.618697633900252\n",
       "\n"
      ],
      "text/plain": [
       "        mu      tau_w      tau_b \n",
       "86.5587353 47.0314403  0.6186976 "
      ]
     },
     "metadata": {},
     "output_type": "display_data"
    }
   ],
   "source": [
    "apply(fit2$params, 2, mean)\n"
   ]
  },
  {
   "cell_type": "code",
   "execution_count": 22,
   "metadata": {},
   "outputs": [
    {
     "data": {
      "text/html": [
       "<dl class=dl-horizontal>\n",
       "\t<dt>mu</dt>\n",
       "\t\t<dd>0.101191338376857</dd>\n",
       "\t<dt>tau_w</dt>\n",
       "\t\t<dd>0.981550833516285</dd>\n",
       "\t<dt>tau_b</dt>\n",
       "\t\t<dd>0.0684270054395539</dd>\n",
       "</dl>\n"
      ],
      "text/latex": [
       "\\begin{description*}\n",
       "\\item[mu] 0.101191338376857\n",
       "\\item[tau\\textbackslash{}\\_w] 0.981550833516285\n",
       "\\item[tau\\textbackslash{}\\_b] 0.0684270054395539\n",
       "\\end{description*}\n"
      ],
      "text/markdown": [
       "mu\n",
       ":   0.101191338376857tau_w\n",
       ":   0.981550833516285tau_b\n",
       ":   0.0684270054395539\n",
       "\n"
      ],
      "text/plain": [
       "        mu      tau_w      tau_b \n",
       "0.10119134 0.98155083 0.06842701 "
      ]
     },
     "metadata": {},
     "output_type": "display_data"
    }
   ],
   "source": [
    "apply(fit2$params, 2, sd)\n"
   ]
  },
  {
   "cell_type": "code",
   "execution_count": 23,
   "metadata": {},
   "outputs": [
    {
     "data": {
      "text/html": [
       "0.145840024105347"
      ],
      "text/latex": [
       "0.145840024105347"
      ],
      "text/markdown": [
       "0.145840024105347"
      ],
      "text/plain": [
       "[1] 0.14584"
      ]
     },
     "metadata": {},
     "output_type": "display_data"
    }
   ],
   "source": [
    "mean(1/sqrt(fit2$params[, 2]))\n"
   ]
  },
  {
   "cell_type": "code",
   "execution_count": 24,
   "metadata": {},
   "outputs": [
    {
     "data": {
      "text/html": [
       "0.00152098171412367"
      ],
      "text/latex": [
       "0.00152098171412367"
      ],
      "text/markdown": [
       "0.00152098171412367"
      ],
      "text/plain": [
       "[1] 0.001520982"
      ]
     },
     "metadata": {},
     "output_type": "display_data"
    }
   ],
   "source": [
    "sd(1/sqrt(fit2$params[, 2]))\n"
   ]
  },
  {
   "cell_type": "code",
   "execution_count": 25,
   "metadata": {},
   "outputs": [
    {
     "data": {
      "text/html": [
       "1.27719884578541"
      ],
      "text/latex": [
       "1.27719884578541"
      ],
      "text/markdown": [
       "1.27719884578541"
      ],
      "text/plain": [
       "[1] 1.277199"
      ]
     },
     "metadata": {},
     "output_type": "display_data"
    }
   ],
   "source": [
    "mean(1/sqrt(fit2$params[, 3]))"
   ]
  },
  {
   "cell_type": "code",
   "execution_count": 26,
   "metadata": {},
   "outputs": [
    {
     "data": {
      "text/html": [
       "0.071048639727617"
      ],
      "text/latex": [
       "0.071048639727617"
      ],
      "text/markdown": [
       "0.071048639727617"
      ],
      "text/plain": [
       "[1] 0.07104864"
      ]
     },
     "metadata": {},
     "output_type": "display_data"
    }
   ],
   "source": [
    "sd(1/sqrt(fit2$params[, 3]))\n"
   ]
  },
  {
   "cell_type": "code",
   "execution_count": 27,
   "metadata": {},
   "outputs": [
    {
     "data": {
      "text/html": [
       "<dl class=dl-horizontal>\n",
       "\t<dt>1</dt>\n",
       "\t\t<dd>88.9212206419778</dd>\n",
       "\t<dt>2</dt>\n",
       "\t\t<dd>88.7751108557051</dd>\n",
       "\t<dt>28</dt>\n",
       "\t\t<dd>88.6621744323916</dd>\n",
       "\t<dt>4</dt>\n",
       "\t\t<dd>88.5682735348956</dd>\n",
       "\t<dt>76</dt>\n",
       "\t\t<dd>88.3211142072843</dd>\n",
       "\t<dt>6</dt>\n",
       "\t\t<dd>88.2845203483632</dd>\n",
       "\t<dt>64</dt>\n",
       "\t\t<dd>88.2654538319739</dd>\n",
       "\t<dt>8</dt>\n",
       "\t\t<dd>88.212980889557</dd>\n",
       "\t<dt>51</dt>\n",
       "\t\t<dd>88.1368532907961</dd>\n",
       "\t<dt>10</dt>\n",
       "\t\t<dd>87.9991017025492</dd>\n",
       "\t<dt>93</dt>\n",
       "\t\t<dd>87.9983021843527</dd>\n",
       "\t<dt>12</dt>\n",
       "\t\t<dd>87.9978093817356</dd>\n",
       "\t<dt>23</dt>\n",
       "\t\t<dd>87.9975199890235</dd>\n",
       "\t<dt>14</dt>\n",
       "\t\t<dd>87.9952163312876</dd>\n",
       "\t<dt>55</dt>\n",
       "\t\t<dd>87.8472780950277</dd>\n",
       "\t<dt>66</dt>\n",
       "\t\t<dd>87.7997758008437</dd>\n",
       "\t<dt>53</dt>\n",
       "\t\t<dd>87.7995780904294</dd>\n",
       "\t<dt>47</dt>\n",
       "\t\t<dd>87.7984145284092</dd>\n",
       "\t<dt>19</dt>\n",
       "\t\t<dd>87.7780298673631</dd>\n",
       "\t<dt>20</dt>\n",
       "\t\t<dd>87.7768117404755</dd>\n",
       "\t<dt>2</dt>\n",
       "\t\t<dd>87.7642921667375</dd>\n",
       "\t<dt>80</dt>\n",
       "\t\t<dd>87.7592967903111</dd>\n",
       "\t<dt>88</dt>\n",
       "\t\t<dd>87.7471358162854</dd>\n",
       "\t<dt>52</dt>\n",
       "\t\t<dd>87.7469552148684</dd>\n",
       "\t<dt>24</dt>\n",
       "\t\t<dd>87.7144786023935</dd>\n",
       "\t<dt>5</dt>\n",
       "\t\t<dd>87.7137889492019</dd>\n",
       "\t<dt>27</dt>\n",
       "\t\t<dd>87.7060821494719</dd>\n",
       "\t<dt>21</dt>\n",
       "\t\t<dd>87.6655439955765</dd>\n",
       "\t<dt>91</dt>\n",
       "\t\t<dd>87.6346113282036</dd>\n",
       "\t<dt>1</dt>\n",
       "\t\t<dd>87.6226815909928</dd>\n",
       "\t<dt>29</dt>\n",
       "\t\t<dd>87.5991788579038</dd>\n",
       "\t<dt>72</dt>\n",
       "\t\t<dd>87.5548451775963</dd>\n",
       "\t<dt>35</dt>\n",
       "\t\t<dd>87.4806572994196</dd>\n",
       "\t<dt>34</dt>\n",
       "\t\t<dd>87.4672450744462</dd>\n",
       "\t<dt>35</dt>\n",
       "\t\t<dd>87.4448569658714</dd>\n",
       "\t<dt>4</dt>\n",
       "\t\t<dd>87.4309180033848</dd>\n",
       "\t<dt>37</dt>\n",
       "\t\t<dd>87.3931671782984</dd>\n",
       "\t<dt>85</dt>\n",
       "\t\t<dd>87.3753181797853</dd>\n",
       "\t<dt>18</dt>\n",
       "\t\t<dd>87.3636372045325</dd>\n",
       "\t<dt>13</dt>\n",
       "\t\t<dd>87.3001971244762</dd>\n",
       "\t<dt>11</dt>\n",
       "\t\t<dd>87.2969671084423</dd>\n",
       "\t<dt>65</dt>\n",
       "\t\t<dd>87.2946741382496</dd>\n",
       "\t<dt>43</dt>\n",
       "\t\t<dd>87.2816983256588</dd>\n",
       "\t<dt>44</dt>\n",
       "\t\t<dd>87.2756790215077</dd>\n",
       "\t<dt>45</dt>\n",
       "\t\t<dd>87.2705369218032</dd>\n",
       "\t<dt>46</dt>\n",
       "\t\t<dd>87.2481760787435</dd>\n",
       "\t<dt>19</dt>\n",
       "\t\t<dd>87.2479800289213</dd>\n",
       "\t<dt>43</dt>\n",
       "\t\t<dd>87.2398747670073</dd>\n",
       "\t<dt>49</dt>\n",
       "\t\t<dd>87.2108487558181</dd>\n",
       "\t<dt>34</dt>\n",
       "\t\t<dd>87.2010517700344</dd>\n",
       "\t<dt>81</dt>\n",
       "\t\t<dd>87.1441024685679</dd>\n",
       "\t<dt>22</dt>\n",
       "\t\t<dd>87.1427606653061</dd>\n",
       "\t<dt>53</dt>\n",
       "\t\t<dd>87.1414211728992</dd>\n",
       "\t<dt>6</dt>\n",
       "\t\t<dd>87.1121791658696</dd>\n",
       "\t<dt>10</dt>\n",
       "\t\t<dd>87.1029027999953</dd>\n",
       "\t<dt>8</dt>\n",
       "\t\t<dd>87.05265805753</dd>\n",
       "\t<dt>89</dt>\n",
       "\t\t<dd>87.0426123384293</dd>\n",
       "\t<dt>58</dt>\n",
       "\t\t<dd>86.9993237010678</dd>\n",
       "\t<dt>27</dt>\n",
       "\t\t<dd>86.9984788850751</dd>\n",
       "\t<dt>31</dt>\n",
       "\t\t<dd>86.9572638614253</dd>\n",
       "\t<dt>61</dt>\n",
       "\t\t<dd>86.886868718929</dd>\n",
       "\t<dt>79</dt>\n",
       "\t\t<dd>86.8623958128716</dd>\n",
       "\t<dt>41</dt>\n",
       "\t\t<dd>86.8601435290708</dd>\n",
       "\t<dt>44</dt>\n",
       "\t\t<dd>86.8182030914363</dd>\n",
       "\t<dt>65</dt>\n",
       "\t\t<dd>86.8165838624205</dd>\n",
       "\t<dt>66</dt>\n",
       "\t\t<dd>86.8008156839115</dd>\n",
       "\t<dt>83</dt>\n",
       "\t\t<dd>86.799918626617</dd>\n",
       "\t<dt>97</dt>\n",
       "\t\t<dd>86.7507664536352</dd>\n",
       "\t<dt>3</dt>\n",
       "\t\t<dd>86.7503954436609</dd>\n",
       "\t<dt>26</dt>\n",
       "\t\t<dd>86.7477020668526</dd>\n",
       "\t<dt>60</dt>\n",
       "\t\t<dd>86.7369752195224</dd>\n",
       "\t<dt>37</dt>\n",
       "\t\t<dd>86.7140364882675</dd>\n",
       "\t<dt>73</dt>\n",
       "\t\t<dd>86.7098741991661</dd>\n",
       "\t<dt>74</dt>\n",
       "\t\t<dd>86.6678780304625</dd>\n",
       "\t<dt>75</dt>\n",
       "\t\t<dd>86.6338715882913</dd>\n",
       "\t<dt>76</dt>\n",
       "\t\t<dd>86.6092856897909</dd>\n",
       "\t<dt>15</dt>\n",
       "\t\t<dd>86.6010808983053</dd>\n",
       "\t<dt>78</dt>\n",
       "\t\t<dd>86.5840292069758</dd>\n",
       "\t<dt>14</dt>\n",
       "\t\t<dd>86.5839367232046</dd>\n",
       "\t<dt>63</dt>\n",
       "\t\t<dd>86.5612289256618</dd>\n",
       "\t<dt>90</dt>\n",
       "\t\t<dd>86.5463956600562</dd>\n",
       "\t<dt>25</dt>\n",
       "\t\t<dd>86.5302947056736</dd>\n",
       "\t<dt>9</dt>\n",
       "\t\t<dd>86.501942202928</dd>\n",
       "\t<dt>12</dt>\n",
       "\t\t<dd>86.5009994279681</dd>\n",
       "\t<dt>33</dt>\n",
       "\t\t<dd>86.5009200453151</dd>\n",
       "\t<dt>17</dt>\n",
       "\t\t<dd>86.5002546690228</dd>\n",
       "\t<dt>87</dt>\n",
       "\t\t<dd>86.4997693735876</dd>\n",
       "\t<dt>88</dt>\n",
       "\t\t<dd>86.4699939265964</dd>\n",
       "\t<dt>89</dt>\n",
       "\t\t<dd>86.4699785060304</dd>\n",
       "\t<dt>90</dt>\n",
       "\t\t<dd>86.4630329511573</dd>\n",
       "\t<dt>91</dt>\n",
       "\t\t<dd>86.4493820851497</dd>\n",
       "\t<dt>92</dt>\n",
       "\t\t<dd>86.4304128120458</dd>\n",
       "\t<dt>50</dt>\n",
       "\t\t<dd>86.4011468946971</dd>\n",
       "\t<dt>42</dt>\n",
       "\t\t<dd>86.4006661421611</dd>\n",
       "\t<dt>95</dt>\n",
       "\t\t<dd>86.383442317062</dd>\n",
       "\t<dt>95</dt>\n",
       "\t\t<dd>86.3658618767513</dd>\n",
       "\t<dt>97</dt>\n",
       "\t\t<dd>86.3543482159036</dd>\n",
       "\t<dt>48</dt>\n",
       "\t\t<dd>86.3485599636212</dd>\n",
       "\t<dt>45</dt>\n",
       "\t\t<dd>86.3341072794693</dd>\n",
       "\t<dt>100</dt>\n",
       "\t\t<dd>86.3092484401678</dd>\n",
       "\t<dt>40</dt>\n",
       "\t\t<dd>86.2776686170335</dd>\n",
       "\t<dt>36</dt>\n",
       "\t\t<dd>86.2736286527388</dd>\n",
       "\t<dt>103</dt>\n",
       "\t\t<dd>86.2512385144184</dd>\n",
       "\t<dt>59</dt>\n",
       "\t\t<dd>86.2506504297379</dd>\n",
       "\t<dt>105</dt>\n",
       "\t\t<dd>86.2320673033503</dd>\n",
       "\t<dt>82</dt>\n",
       "\t\t<dd>86.2232483168659</dd>\n",
       "\t<dt>20</dt>\n",
       "\t\t<dd>86.1746039844598</dd>\n",
       "\t<dt>108</dt>\n",
       "\t\t<dd>86.1494795232234</dd>\n",
       "\t<dt>109</dt>\n",
       "\t\t<dd>86.1267786534515</dd>\n",
       "\t<dt>110</dt>\n",
       "\t\t<dd>86.1252156748279</dd>\n",
       "\t<dt>74</dt>\n",
       "\t\t<dd>86.106158915714</dd>\n",
       "\t<dt>112</dt>\n",
       "\t\t<dd>86.0030035750028</dd>\n",
       "\t<dt>54</dt>\n",
       "\t\t<dd>86.0027717947464</dd>\n",
       "\t<dt>56</dt>\n",
       "\t\t<dd>86.0018392589725</dd>\n",
       "\t<dt>115</dt>\n",
       "\t\t<dd>86.0011556447485</dd>\n",
       "\t<dt>116</dt>\n",
       "\t\t<dd>86.0008402124877</dd>\n",
       "\t<dt>117</dt>\n",
       "\t\t<dd>85.9241126338532</dd>\n",
       "\t<dt>118</dt>\n",
       "\t\t<dd>85.9176347045855</dd>\n",
       "\t<dt>84</dt>\n",
       "\t\t<dd>85.9024380712701</dd>\n",
       "\t<dt>120</dt>\n",
       "\t\t<dd>85.8915665843988</dd>\n",
       "\t<dt>121</dt>\n",
       "\t\t<dd>85.8908049706551</dd>\n",
       "\t<dt>122</dt>\n",
       "\t\t<dd>85.8600678305372</dd>\n",
       "\t<dt>61</dt>\n",
       "\t\t<dd>85.8531501233215</dd>\n",
       "\t<dt>30</dt>\n",
       "\t\t<dd>85.8486761729014</dd>\n",
       "\t<dt>86</dt>\n",
       "\t\t<dd>85.81550995619</dd>\n",
       "\t<dt>58</dt>\n",
       "\t\t<dd>85.8044877071493</dd>\n",
       "\t<dt>127</dt>\n",
       "\t\t<dd>85.8035857549674</dd>\n",
       "\t<dt>32</dt>\n",
       "\t\t<dd>85.8028305570226</dd>\n",
       "\t<dt>129</dt>\n",
       "\t\t<dd>85.7800123779403</dd>\n",
       "\t<dt>73</dt>\n",
       "\t\t<dd>85.763135919242</dd>\n",
       "\t<dt>94</dt>\n",
       "\t\t<dd>85.7536670313346</dd>\n",
       "\t<dt>69</dt>\n",
       "\t\t<dd>85.7180996464623</dd>\n",
       "\t<dt>57</dt>\n",
       "\t\t<dd>85.6701703551827</dd>\n",
       "\t<dt>134</dt>\n",
       "\t\t<dd>85.6482386983762</dd>\n",
       "\t<dt>16</dt>\n",
       "\t\t<dd>85.6277723293527</dd>\n",
       "\t<dt>67</dt>\n",
       "\t\t<dd>85.6043062505672</dd>\n",
       "\t<dt>137</dt>\n",
       "\t\t<dd>85.5518786062811</dd>\n",
       "\t<dt>138</dt>\n",
       "\t\t<dd>85.5478006830334</dd>\n",
       "\t<dt>98</dt>\n",
       "\t\t<dd>85.5176479759193</dd>\n",
       "\t<dt>140</dt>\n",
       "\t\t<dd>85.5051512154402</dd>\n",
       "\t<dt>92</dt>\n",
       "\t\t<dd>85.5038414148793</dd>\n",
       "\t<dt>96</dt>\n",
       "\t\t<dd>85.5020060001845</dd>\n",
       "\t<dt>78</dt>\n",
       "\t\t<dd>85.5015798993845</dd>\n",
       "\t<dt>75</dt>\n",
       "\t\t<dd>85.4628734346421</dd>\n",
       "\t<dt>145</dt>\n",
       "\t\t<dd>85.4493793346124</dd>\n",
       "\t<dt>146</dt>\n",
       "\t\t<dd>85.365484961284</dd>\n",
       "\t<dt>46</dt>\n",
       "\t\t<dd>85.3493469512469</dd>\n",
       "\t<dt>77</dt>\n",
       "\t\t<dd>85.2568865620516</dd>\n",
       "\t<dt>71</dt>\n",
       "\t\t<dd>85.2554092580052</dd>\n",
       "\t<dt>150</dt>\n",
       "\t\t<dd>85.1712631860307</dd>\n",
       "\t<dt>62</dt>\n",
       "\t\t<dd>85.0097210661175</dd>\n",
       "\t<dt>38</dt>\n",
       "\t\t<dd>85.0031585662104</dd>\n",
       "\t<dt>153</dt>\n",
       "\t\t<dd>84.9282547665457</dd>\n",
       "\t<dt>154</dt>\n",
       "\t\t<dd>84.9118100899279</dd>\n",
       "\t<dt>70</dt>\n",
       "\t\t<dd>84.8059804925348</dd>\n",
       "\t<dt>100</dt>\n",
       "\t\t<dd>84.7565770675696</dd>\n",
       "\t<dt>7</dt>\n",
       "\t\t<dd>84.6706871295822</dd>\n",
       "\t<dt>158</dt>\n",
       "\t\t<dd>84.6401183067342</dd>\n",
       "\t<dt>99</dt>\n",
       "\t\t<dd>84.5946795841972</dd>\n",
       "\t<dt>68</dt>\n",
       "\t\t<dd>84.53183482122</dd>\n",
       "\t<dt>161</dt>\n",
       "\t\t<dd>84.5070990597494</dd>\n",
       "\t<dt>39</dt>\n",
       "\t\t<dd>84.2585152792483</dd>\n",
       "\t<dt>49</dt>\n",
       "\t\t<dd>84.0069585276163</dd>\n",
       "</dl>\n"
      ],
      "text/latex": [
       "\\begin{description*}\n",
       "\\item[1] 88.9212206419778\n",
       "\\item[2] 88.7751108557051\n",
       "\\item[28] 88.6621744323916\n",
       "\\item[4] 88.5682735348956\n",
       "\\item[76] 88.3211142072843\n",
       "\\item[6] 88.2845203483632\n",
       "\\item[64] 88.2654538319739\n",
       "\\item[8] 88.212980889557\n",
       "\\item[51] 88.1368532907961\n",
       "\\item[10] 87.9991017025492\n",
       "\\item[93] 87.9983021843527\n",
       "\\item[12] 87.9978093817356\n",
       "\\item[23] 87.9975199890235\n",
       "\\item[14] 87.9952163312876\n",
       "\\item[55] 87.8472780950277\n",
       "\\item[66] 87.7997758008437\n",
       "\\item[53] 87.7995780904294\n",
       "\\item[47] 87.7984145284092\n",
       "\\item[19] 87.7780298673631\n",
       "\\item[20] 87.7768117404755\n",
       "\\item[2] 87.7642921667375\n",
       "\\item[80] 87.7592967903111\n",
       "\\item[88] 87.7471358162854\n",
       "\\item[52] 87.7469552148684\n",
       "\\item[24] 87.7144786023935\n",
       "\\item[5] 87.7137889492019\n",
       "\\item[27] 87.7060821494719\n",
       "\\item[21] 87.6655439955765\n",
       "\\item[91] 87.6346113282036\n",
       "\\item[1] 87.6226815909928\n",
       "\\item[29] 87.5991788579038\n",
       "\\item[72] 87.5548451775963\n",
       "\\item[35] 87.4806572994196\n",
       "\\item[34] 87.4672450744462\n",
       "\\item[35] 87.4448569658714\n",
       "\\item[4] 87.4309180033848\n",
       "\\item[37] 87.3931671782984\n",
       "\\item[85] 87.3753181797853\n",
       "\\item[18] 87.3636372045325\n",
       "\\item[13] 87.3001971244762\n",
       "\\item[11] 87.2969671084423\n",
       "\\item[65] 87.2946741382496\n",
       "\\item[43] 87.2816983256588\n",
       "\\item[44] 87.2756790215077\n",
       "\\item[45] 87.2705369218032\n",
       "\\item[46] 87.2481760787435\n",
       "\\item[19] 87.2479800289213\n",
       "\\item[43] 87.2398747670073\n",
       "\\item[49] 87.2108487558181\n",
       "\\item[34] 87.2010517700344\n",
       "\\item[81] 87.1441024685679\n",
       "\\item[22] 87.1427606653061\n",
       "\\item[53] 87.1414211728992\n",
       "\\item[6] 87.1121791658696\n",
       "\\item[10] 87.1029027999953\n",
       "\\item[8] 87.05265805753\n",
       "\\item[89] 87.0426123384293\n",
       "\\item[58] 86.9993237010678\n",
       "\\item[27] 86.9984788850751\n",
       "\\item[31] 86.9572638614253\n",
       "\\item[61] 86.886868718929\n",
       "\\item[79] 86.8623958128716\n",
       "\\item[41] 86.8601435290708\n",
       "\\item[44] 86.8182030914363\n",
       "\\item[65] 86.8165838624205\n",
       "\\item[66] 86.8008156839115\n",
       "\\item[83] 86.799918626617\n",
       "\\item[97] 86.7507664536352\n",
       "\\item[3] 86.7503954436609\n",
       "\\item[26] 86.7477020668526\n",
       "\\item[60] 86.7369752195224\n",
       "\\item[37] 86.7140364882675\n",
       "\\item[73] 86.7098741991661\n",
       "\\item[74] 86.6678780304625\n",
       "\\item[75] 86.6338715882913\n",
       "\\item[76] 86.6092856897909\n",
       "\\item[15] 86.6010808983053\n",
       "\\item[78] 86.5840292069758\n",
       "\\item[14] 86.5839367232046\n",
       "\\item[63] 86.5612289256618\n",
       "\\item[90] 86.5463956600562\n",
       "\\item[25] 86.5302947056736\n",
       "\\item[9] 86.501942202928\n",
       "\\item[12] 86.5009994279681\n",
       "\\item[33] 86.5009200453151\n",
       "\\item[17] 86.5002546690228\n",
       "\\item[87] 86.4997693735876\n",
       "\\item[88] 86.4699939265964\n",
       "\\item[89] 86.4699785060304\n",
       "\\item[90] 86.4630329511573\n",
       "\\item[91] 86.4493820851497\n",
       "\\item[92] 86.4304128120458\n",
       "\\item[50] 86.4011468946971\n",
       "\\item[42] 86.4006661421611\n",
       "\\item[95] 86.383442317062\n",
       "\\item[95] 86.3658618767513\n",
       "\\item[97] 86.3543482159036\n",
       "\\item[48] 86.3485599636212\n",
       "\\item[45] 86.3341072794693\n",
       "\\item[100] 86.3092484401678\n",
       "\\item[40] 86.2776686170335\n",
       "\\item[36] 86.2736286527388\n",
       "\\item[103] 86.2512385144184\n",
       "\\item[59] 86.2506504297379\n",
       "\\item[105] 86.2320673033503\n",
       "\\item[82] 86.2232483168659\n",
       "\\item[20] 86.1746039844598\n",
       "\\item[108] 86.1494795232234\n",
       "\\item[109] 86.1267786534515\n",
       "\\item[110] 86.1252156748279\n",
       "\\item[74] 86.106158915714\n",
       "\\item[112] 86.0030035750028\n",
       "\\item[54] 86.0027717947464\n",
       "\\item[56] 86.0018392589725\n",
       "\\item[115] 86.0011556447485\n",
       "\\item[116] 86.0008402124877\n",
       "\\item[117] 85.9241126338532\n",
       "\\item[118] 85.9176347045855\n",
       "\\item[84] 85.9024380712701\n",
       "\\item[120] 85.8915665843988\n",
       "\\item[121] 85.8908049706551\n",
       "\\item[122] 85.8600678305372\n",
       "\\item[61] 85.8531501233215\n",
       "\\item[30] 85.8486761729014\n",
       "\\item[86] 85.81550995619\n",
       "\\item[58] 85.8044877071493\n",
       "\\item[127] 85.8035857549674\n",
       "\\item[32] 85.8028305570226\n",
       "\\item[129] 85.7800123779403\n",
       "\\item[73] 85.763135919242\n",
       "\\item[94] 85.7536670313346\n",
       "\\item[69] 85.7180996464623\n",
       "\\item[57] 85.6701703551827\n",
       "\\item[134] 85.6482386983762\n",
       "\\item[16] 85.6277723293527\n",
       "\\item[67] 85.6043062505672\n",
       "\\item[137] 85.5518786062811\n",
       "\\item[138] 85.5478006830334\n",
       "\\item[98] 85.5176479759193\n",
       "\\item[140] 85.5051512154402\n",
       "\\item[92] 85.5038414148793\n",
       "\\item[96] 85.5020060001845\n",
       "\\item[78] 85.5015798993845\n",
       "\\item[75] 85.4628734346421\n",
       "\\item[145] 85.4493793346124\n",
       "\\item[146] 85.365484961284\n",
       "\\item[46] 85.3493469512469\n",
       "\\item[77] 85.2568865620516\n",
       "\\item[71] 85.2554092580052\n",
       "\\item[150] 85.1712631860307\n",
       "\\item[62] 85.0097210661175\n",
       "\\item[38] 85.0031585662104\n",
       "\\item[153] 84.9282547665457\n",
       "\\item[154] 84.9118100899279\n",
       "\\item[70] 84.8059804925348\n",
       "\\item[100] 84.7565770675696\n",
       "\\item[7] 84.6706871295822\n",
       "\\item[158] 84.6401183067342\n",
       "\\item[99] 84.5946795841972\n",
       "\\item[68] 84.53183482122\n",
       "\\item[161] 84.5070990597494\n",
       "\\item[39] 84.2585152792483\n",
       "\\item[49] 84.0069585276163\n",
       "\\end{description*}\n"
      ],
      "text/markdown": [
       "1\n",
       ":   88.92122064197782\n",
       ":   88.775110855705128\n",
       ":   88.66217443239164\n",
       ":   88.568273534895676\n",
       ":   88.32111420728436\n",
       ":   88.284520348363264\n",
       ":   88.26545383197398\n",
       ":   88.21298088955751\n",
       ":   88.136853290796110\n",
       ":   87.999101702549293\n",
       ":   87.998302184352712\n",
       ":   87.997809381735623\n",
       ":   87.997519989023514\n",
       ":   87.995216331287655\n",
       ":   87.847278095027766\n",
       ":   87.799775800843753\n",
       ":   87.799578090429447\n",
       ":   87.798414528409219\n",
       ":   87.778029867363120\n",
       ":   87.77681174047552\n",
       ":   87.764292166737580\n",
       ":   87.759296790311188\n",
       ":   87.747135816285452\n",
       ":   87.746955214868424\n",
       ":   87.71447860239355\n",
       ":   87.713788949201927\n",
       ":   87.706082149471921\n",
       ":   87.665543995576591\n",
       ":   87.63461132820361\n",
       ":   87.622681590992829\n",
       ":   87.599178857903872\n",
       ":   87.554845177596335\n",
       ":   87.480657299419634\n",
       ":   87.467245074446235\n",
       ":   87.44485696587144\n",
       ":   87.430918003384837\n",
       ":   87.393167178298485\n",
       ":   87.375318179785318\n",
       ":   87.363637204532513\n",
       ":   87.300197124476211\n",
       ":   87.296967108442365\n",
       ":   87.294674138249643\n",
       ":   87.281698325658844\n",
       ":   87.275679021507745\n",
       ":   87.270536921803246\n",
       ":   87.248176078743519\n",
       ":   87.247980028921343\n",
       ":   87.239874767007349\n",
       ":   87.210848755818134\n",
       ":   87.201051770034481\n",
       ":   87.144102468567922\n",
       ":   87.142760665306153\n",
       ":   87.14142117289926\n",
       ":   87.112179165869610\n",
       ":   87.10290279999538\n",
       ":   87.0526580575389\n",
       ":   87.042612338429358\n",
       ":   86.999323701067827\n",
       ":   86.998478885075131\n",
       ":   86.957263861425361\n",
       ":   86.88686871892979\n",
       ":   86.862395812871641\n",
       ":   86.860143529070844\n",
       ":   86.818203091436365\n",
       ":   86.816583862420566\n",
       ":   86.800815683911583\n",
       ":   86.79991862661797\n",
       ":   86.75076645363523\n",
       ":   86.750395443660926\n",
       ":   86.747702066852660\n",
       ":   86.736975219522437\n",
       ":   86.714036488267573\n",
       ":   86.709874199166174\n",
       ":   86.667878030462575\n",
       ":   86.633871588291376\n",
       ":   86.609285689790915\n",
       ":   86.601080898305378\n",
       ":   86.584029206975814\n",
       ":   86.583936723204663\n",
       ":   86.561228925661890\n",
       ":   86.546395660056225\n",
       ":   86.53029470567369\n",
       ":   86.50194220292812\n",
       ":   86.500999427968133\n",
       ":   86.500920045315117\n",
       ":   86.500254669022887\n",
       ":   86.499769373587688\n",
       ":   86.469993926596489\n",
       ":   86.469978506030490\n",
       ":   86.463032951157391\n",
       ":   86.449382085149792\n",
       ":   86.430412812045850\n",
       ":   86.401146894697142\n",
       ":   86.400666142161195\n",
       ":   86.38344231706295\n",
       ":   86.365861876751397\n",
       ":   86.354348215903648\n",
       ":   86.348559963621245\n",
       ":   86.3341072794693100\n",
       ":   86.309248440167840\n",
       ":   86.277668617033536\n",
       ":   86.2736286527388103\n",
       ":   86.251238514418459\n",
       ":   86.2506504297379105\n",
       ":   86.232067303350382\n",
       ":   86.223248316865920\n",
       ":   86.1746039844598108\n",
       ":   86.1494795232234109\n",
       ":   86.1267786534515110\n",
       ":   86.125215674827974\n",
       ":   86.106158915714112\n",
       ":   86.003003575002854\n",
       ":   86.002771794746456\n",
       ":   86.0018392589725115\n",
       ":   86.0011556447485116\n",
       ":   86.0008402124877117\n",
       ":   85.9241126338532118\n",
       ":   85.917634704585584\n",
       ":   85.9024380712701120\n",
       ":   85.8915665843988121\n",
       ":   85.8908049706551122\n",
       ":   85.860067830537261\n",
       ":   85.853150123321530\n",
       ":   85.848676172901486\n",
       ":   85.8155099561958\n",
       ":   85.8044877071493127\n",
       ":   85.803585754967432\n",
       ":   85.8028305570226129\n",
       ":   85.780012377940373\n",
       ":   85.76313591924294\n",
       ":   85.753667031334669\n",
       ":   85.718099646462357\n",
       ":   85.6701703551827134\n",
       ":   85.648238698376216\n",
       ":   85.627772329352767\n",
       ":   85.6043062505672137\n",
       ":   85.5518786062811138\n",
       ":   85.547800683033498\n",
       ":   85.5176479759193140\n",
       ":   85.505151215440292\n",
       ":   85.503841414879396\n",
       ":   85.502006000184578\n",
       ":   85.501579899384575\n",
       ":   85.4628734346421145\n",
       ":   85.4493793346124146\n",
       ":   85.36548496128446\n",
       ":   85.349346951246977\n",
       ":   85.256886562051671\n",
       ":   85.2554092580052150\n",
       ":   85.171263186030762\n",
       ":   85.009721066117538\n",
       ":   85.0031585662104153\n",
       ":   84.9282547665457154\n",
       ":   84.911810089927970\n",
       ":   84.8059804925348100\n",
       ":   84.75657706756967\n",
       ":   84.6706871295822158\n",
       ":   84.640118306734299\n",
       ":   84.594679584197268\n",
       ":   84.53183482122161\n",
       ":   84.507099059749439\n",
       ":   84.258515279248349\n",
       ":   84.0069585276163\n",
       "\n"
      ],
      "text/plain": [
       "    <NA>     <NA>       28     <NA>       76     <NA>       64     <NA> \n",
       "88.92122 88.77511 88.66217 88.56827 88.32111 88.28452 88.26545 88.21298 \n",
       "      51     <NA>       93     <NA>       23     <NA>       55       66 \n",
       "88.13685 87.99910 87.99830 87.99781 87.99752 87.99522 87.84728 87.79978 \n",
       "      53       47     <NA>     <NA>        2       80       88       52 \n",
       "87.79958 87.79841 87.77803 87.77681 87.76429 87.75930 87.74714 87.74696 \n",
       "      24        5     <NA>       21       91        1       29       72 \n",
       "87.71448 87.71379 87.70608 87.66554 87.63461 87.62268 87.59918 87.55485 \n",
       "      35     <NA>     <NA>        4     <NA>       85       18       13 \n",
       "87.48066 87.46725 87.44486 87.43092 87.39317 87.37532 87.36364 87.30020 \n",
       "      11       65     <NA>     <NA>     <NA>     <NA>       19       43 \n",
       "87.29697 87.29467 87.28170 87.27568 87.27054 87.24818 87.24798 87.23987 \n",
       "    <NA>       34       81       22     <NA>        6       10        8 \n",
       "87.21085 87.20105 87.14410 87.14276 87.14142 87.11218 87.10290 87.05266 \n",
       "      89     <NA>       27       31     <NA>       79       41       44 \n",
       "87.04261 86.99932 86.99848 86.95726 86.88687 86.86240 86.86014 86.81820 \n",
       "    <NA>     <NA>       83       97        3       26       60       37 \n",
       "86.81658 86.80082 86.79992 86.75077 86.75040 86.74770 86.73698 86.71404 \n",
       "    <NA>     <NA>     <NA>     <NA>       15     <NA>       14       63 \n",
       "86.70987 86.66788 86.63387 86.60929 86.60108 86.58403 86.58394 86.56123 \n",
       "      90       25        9       12       33       17       87     <NA> \n",
       "86.54640 86.53029 86.50194 86.50100 86.50092 86.50025 86.49977 86.46999 \n",
       "    <NA>     <NA>     <NA>     <NA>       50       42     <NA>       95 \n",
       "86.46998 86.46303 86.44938 86.43041 86.40115 86.40067 86.38344 86.36586 \n",
       "    <NA>       48       45     <NA>       40       36     <NA>       59 \n",
       "86.35435 86.34856 86.33411 86.30925 86.27767 86.27363 86.25124 86.25065 \n",
       "    <NA>       82       20     <NA>     <NA>     <NA>       74     <NA> \n",
       "86.23207 86.22325 86.17460 86.14948 86.12678 86.12522 86.10616 86.00300 \n",
       "      54       56     <NA>     <NA>     <NA>     <NA>       84     <NA> \n",
       "86.00277 86.00184 86.00116 86.00084 85.92411 85.91763 85.90244 85.89157 \n",
       "    <NA>     <NA>       61       30       86       58     <NA>       32 \n",
       "85.89080 85.86007 85.85315 85.84868 85.81551 85.80449 85.80359 85.80283 \n",
       "    <NA>       73       94       69       57     <NA>       16       67 \n",
       "85.78001 85.76314 85.75367 85.71810 85.67017 85.64824 85.62777 85.60431 \n",
       "    <NA>     <NA>       98     <NA>       92       96       78       75 \n",
       "85.55188 85.54780 85.51765 85.50515 85.50384 85.50201 85.50158 85.46287 \n",
       "    <NA>     <NA>       46       77       71     <NA>       62       38 \n",
       "85.44938 85.36548 85.34935 85.25689 85.25541 85.17126 85.00972 85.00316 \n",
       "    <NA>     <NA>       70      100        7     <NA>       99       68 \n",
       "84.92825 84.91181 84.80598 84.75658 84.67069 84.64012 84.59468 84.53183 \n",
       "    <NA>       39       49 \n",
       "84.50710 84.25852 84.00696 "
      ]
     },
     "metadata": {},
     "output_type": "display_data"
    }
   ],
   "source": [
    "theta_hat <- apply(fit2$theta, 2, mean) ## get basic posterior summary\n",
    "names(theta_hat) <- 1:100 ## keep track of different schools\n",
    "sort(theta_hat, decreasing = TRUE) ## which schools did best and worst?\n"
   ]
  },
  {
   "cell_type": "code",
   "execution_count": 33,
   "metadata": {},
   "outputs": [],
   "source": [
    "# theta_ci <- apply(fit2$theta, 2, quantile, prob = c(0.025, .975)) ## upper/lower bounds for thetas\n",
    "# df_error <- data.frame(lower = theta_ci[1, ], upper = theta_ci[2, ], mean = theta_hat,\n",
    "# school = factor(1:100))\n",
    "# ggplot(df_error, aes(x = reorder(school, mean), mean)) + geom_errorbar(aes(ymin = lower, ymax = upper))"
   ]
  },
  {
   "cell_type": "code",
   "execution_count": null,
   "metadata": {},
   "outputs": [],
   "source": [
    "## reformat samples for ggplot\n",
    "theta_df <- data.frame(samples = as.numeric(fit2$theta),\n",
    "school = rep(1:ncol(fit2$theta), each = nrow(fit2$theta)))\n",
    "ggplot(theta_df) + geom_boxplot(aes(x = reorder(school, samples, median), samples,\n",
    "fill = reorder(school, samples, median)), show.legend=FALSE)"
   ]
  },
  {
   "cell_type": "code",
   "execution_count": null,
   "metadata": {},
   "outputs": [],
   "source": [
    "ggplot(data.frame(size = tapply(df2$mathscore, df2$school, length), theta_hat = theta_hat),\n",
    "aes(size, theta_hat)) + geom_point()\n"
   ]
  },
  {
   "cell_type": "code",
   "execution_count": null,
   "metadata": {},
   "outputs": [],
   "source": [
    "ggplot(data.frame(ybar = tapply(df2$mathscore, df2$school, mean), theta_hat = theta_hat),\n",
    "aes(ybar, theta_hat)) + geom_point()\n"
   ]
  }
 ],
 "metadata": {
  "kernelspec": {
   "display_name": "R",
   "language": "R",
   "name": "ir"
  },
  "language_info": {
   "codemirror_mode": "r",
   "file_extension": ".r",
   "mimetype": "text/x-r-source",
   "name": "R",
   "pygments_lexer": "r",
   "version": "3.6.2"
  }
 },
 "nbformat": 4,
 "nbformat_minor": 2
}
